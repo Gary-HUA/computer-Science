{
 "cells": [
  {
   "cell_type": "code",
   "execution_count": 1,
   "metadata": {},
   "outputs": [],
   "source": [
    "import numpy as np\n",
    "import matplotlib.pyplot as plt"
   ]
  },
  {
   "cell_type": "code",
   "execution_count": 15,
   "metadata": {},
   "outputs": [
    {
     "data": {
      "image/png": "[encoded data removed]",
      "text/plain": [
       "<Figure size 432x288 with 1 Axes>"
      ]
     },
     "metadata": {
      "needs_background": "light"
     },
     "output_type": "display_data"
    }
   ],
   "source": [
    "data = np.genfromtxt(\"data.scv\",delimiter=\",\")  # 文件\n",
    "x_data = data[:,0] # : 两边是从第0行到最后行 选取第零列数据\n",
    "y_data = data[:,1]# 两边是从第0行到n列 选取第1column数据\n",
    "plt.scatter(x_data,y_data)\n",
    "plt.show()"
   ]
  },
  {
   "cell_type": "code",
   "execution_count": 35,
   "metadata": {},
   "outputs": [],
   "source": [
    "# learning rate\n",
    "lr = 0.0001\n",
    "# 截距\n",
    "b = 0\n",
    "# 斜率\n",
    "k = 0\n",
    "# 最大迭代次数\n",
    "iteration = 50\n",
    "\n",
    "# 最小二乘法 （cost function）\n",
    "def computer_error(b, k, x_data, y_data):\n",
    "    totalError = 0\n",
    "    for i in range (0, len(x_data)):\n",
    "        totalError +=(y_data[i]-(k*x_data[i]+b))**2 \n",
    "    return totalError/float(len(x_data))/2.0\n",
    "    \n",
    "def gradient_descent_runner(x_data,y_data, b, k, lr, iteration):\n",
    "    # 定义数据总量 M\n",
    "    m = float(len(x_data))\n",
    "    for i in range(iteration):\n",
    "        b_grad = 0\n",
    "        k_grad = 0\n",
    "        # 计算梯度的总和再求平均\n",
    "        for j in range(0, len(x_data)):\n",
    "            b_grad += (1/m)*(((k*x_data[j]) +b)- y_data[j])\n",
    "            k_grad += (1/m)*x_data[j]*(((k*x_data[j])+b)- y_data[j])\n",
    "        # 更新 B,K 值 \n",
    "        b = b - (lr*b_grad)\n",
    "        k = k - (lr*k_grad)\n",
    "    return b, k\n"
   ]
  },
  {
   "cell_type": "code",
   "execution_count": 36,
   "metadata": {},
   "outputs": [
    {
     "name": "stdout",
     "output_type": "stream",
     "text": [
      "starting b=0,k=0,error=2782.5539172416056\n",
      "running...\n",
      "after 50 iteration b= 0.030569950649287983, k=1.4788903781318357, error=56.32488184238028\n"
     ]
    },
    {
     "data": {
      "image/png": "[encoded data removed]",
      "text/plain": [
       "<Figure size 432x288 with 1 Axes>"
      ]
     },
     "metadata": {
      "needs_background": "light"
     },
     "output_type": "display_data"
    }
   ],
   "source": [
    "# print result \n",
    "print(\"starting b={0},k={1},error={2}\".format(b,k,computer_error(b,k,x_data,y_data)))\n",
    "print(\"running...\")\n",
    "b,k = gradient_descent_runner(x_data, y_data, b, k, lr, iteration)\n",
    "print(\"after {0} iteration b= {1}, k={2}, error={3}\".format(iteration, b, k,computer_error(b,k,x_data,y_data)))\n",
    "# 画图:\n",
    "plt.plot(x_data, y_data, 'b.') # 这里为啥在颜色加点(以点的形式画出)\n",
    "plt.plot(x_data,k * x_data + b, \"r\")\n",
    "plt.show()"
   ]
  },
  {
   "cell_type": "code",
   "execution_count": null,
   "metadata": {},
   "outputs": [],
   "source": []
  }
 ],
 "metadata": {
  "kernelspec": {
   "display_name": "Python 3",
   "language": "python",
   "name": "python3"
  },
  "language_info": {
   "codemirror_mode": {
    "name": "ipython",
    "version": 3
   },
   "file_extension": ".py",
   "mimetype": "text/x-python",
   "name": "python",
   "nbconvert_exporter": "python",
   "pygments_lexer": "ipython3",
   "version": "3.8.5"
  }
 },
 "nbformat": 4,
 "nbformat_minor": 4
}
