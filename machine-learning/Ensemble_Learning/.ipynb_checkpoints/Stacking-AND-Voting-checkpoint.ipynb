{
 "cells": [
  {
   "cell_type": "code",
   "execution_count": 5,
   "metadata": {},
   "outputs": [],
   "source": [
    "import numpy as np\n",
    "from sklearn import datasets\n",
    "from sklearn import model_selection\n",
    "from sklearn.linear_model import LogisticRegression\n",
    "from sklearn.neighbors import KNeighborsClassifier\n",
    "from sklearn.tree import DecisionTreeClassifier\n",
    "from mlxtend.classifier import StackingClassifier "
   ]
  },
  {
   "cell_type": "code",
   "execution_count": 6,
   "metadata": {},
   "outputs": [],
   "source": [
    "# read data \n",
    "iris = datasets.load_iris()\n",
    "# 1and 2 colum feature\n",
    "x_data, y_data = iris.data[:,1:3], iris.target"
   ]
  },
  {
   "cell_type": "code",
   "execution_count": 16,
   "metadata": {},
   "outputs": [
    {
     "name": "stdout",
     "output_type": "stream",
     "text": [
      "accuracy:0.91[KNN]\n",
      "accuracy:0.93[DECISION_TREE]\n",
      "accuracy:0.95[LOGISTIC_REGRESIION]\n",
      "accuracy:0.95[STACKING]\n"
     ]
    }
   ],
   "source": [
    "# define 3 classifier \n",
    "knn = KNeighborsClassifier(n_neighbors=1)\n",
    "dt = DecisionTreeClassifier()\n",
    "lr = LogisticRegression()\n",
    "# define secodary classifier\n",
    "lr_s = LogisticRegression()\n",
    "stacking = StackingClassifier(classifiers = [knn, dt, lr], meta_classifier = lr_s)\n",
    "for clf, label in zip([knn, dt, lr, stacking],[\"KNN\", \"DECISION_TREE\", \"LOGISTIC_REGRESIION\", \"STACKING\"]):\n",
    "    scores = model_selection.cross_val_score(clf, x_data, y_data, cv=3, scoring=\"accuracy\")\n",
    "    print(\"accuracy:%0.2f[%s]\" %(scores.mean(), label))"
   ]
  },
  {
   "cell_type": "code",
   "execution_count": 18,
   "metadata": {},
   "outputs": [],
   "source": [
    "# 不用次级分类器 使用投票\n",
    "import numpy as np\n",
    "from sklearn import datasets\n",
    "from sklearn import model_selection\n",
    "from sklearn.linear_model import LogisticRegression\n",
    "from sklearn.neighbors import KNeighborsClassifier\n",
    "from sklearn.tree import DecisionTreeClassifier\n",
    "from sklearn.ensemble import VotingClassifier "
   ]
  },
  {
   "cell_type": "code",
   "execution_count": 23,
   "metadata": {},
   "outputs": [
    {
     "name": "stdout",
     "output_type": "stream",
     "text": [
      "accuracy:0.91[KNN]\n",
      "accuracy:0.91[DECISION_TREE]\n",
      "accuracy:0.95[LOGISTIC_REGRESIION]\n",
      "accuracy:0.95[VOTING]\n"
     ]
    }
   ],
   "source": [
    "# read data \n",
    "iris = datasets.load_iris()\n",
    "# 1and 2 colum feature\n",
    "x_data, y_data = iris.data[:,1:3], iris.target\n",
    "# define 3 classifier \n",
    "knn = KNeighborsClassifier(n_neighbors=1)\n",
    "dt = DecisionTreeClassifier()\n",
    "lr = LogisticRegression()\n",
    "\n",
    "vcf = VotingClassifier([(\"knn\", knn),(\"dt\", dt), (\"lr\", lr)])\n",
    "for clf, label in zip([knn, dt, lr, vcf],[\"KNN\", \"DECISION_TREE\", \"LOGISTIC_REGRESIION\", \"VOTING\"]):\n",
    "    scores = model_selection.cross_val_score(clf, x_data, y_data, cv=3, scoring=\"accuracy\")\n",
    "    print(\"accuracy:%0.2f[%s]\" %(scores.mean(), label))"
   ]
  }
 ],
 "metadata": {
  "kernelspec": {
   "display_name": "Python 3",
   "language": "python",
   "name": "python3"
  },
  "language_info": {
   "codemirror_mode": {
    "name": "ipython",
    "version": 3
   },
   "file_extension": ".py",
   "mimetype": "text/x-python",
   "name": "python",
   "nbconvert_exporter": "python",
   "pygments_lexer": "ipython3",
   "version": "3.8.5"
  }
 },
 "nbformat": 4,
 "nbformat_minor": 4
}
