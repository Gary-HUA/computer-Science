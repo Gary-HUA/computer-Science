{
 "cells": [
  {
   "cell_type": "code",
   "execution_count": null,
   "metadata": {},
   "outputs": [],
   "source": [
    "\"\"\"假设平面坐标系上有四个点, (3,3) (4,3)标签为1(1,1)(0,2) 标签为-1 构建神经网络\"\"\""
   ]
  },
  {
   "cell_type": "code",
   "execution_count": 212,
   "metadata": {},
   "outputs": [],
   "source": [
    "import numpy as np \n",
    "import matplotlib.pyplot as plt "
   ]
  },
  {
   "cell_type": "code",
   "execution_count": 213,
   "metadata": {},
   "outputs": [
    {
     "name": "stdout",
     "output_type": "stream",
     "text": [
      "[[-0.01677991]\n",
      " [ 0.42953975]\n",
      " [ 0.46711032]]\n"
     ]
    }
   ],
   "source": [
    "# input data \n",
    "X = np.array([[1,3,3],\n",
    "             [1,4,3],\n",
    "             [1,1,1],\n",
    "             [1,0,2]])\n",
    "# 标签 \n",
    "t = np.array([[1],\n",
    "              [1],\n",
    "              [-1],\n",
    "              [-1]])\n",
    "# weight initialization\n",
    "w = (np.random.random([3,1])-0.5)*2 # 结果始-1~1之间的随机数 三行一列是 三个输入 一个输出\n",
    "print(w)\n",
    "lr = 0.11\n",
    "out = 0 # neural net output\n",
    "# 权值更新 y ,w, w1\n",
    "def update():\n",
    "    global X ,t , w, lr\n",
    "    out = np.sign(np.dot(X,w)) # activate function\n",
    "    w_c = lr*(X.T.dot(t-out))/int(X.shape[0])\n",
    "    w = w+ w_c"
   ]
  },
  {
   "cell_type": "code",
   "execution_count": 214,
   "metadata": {
    "scrolled": true
   },
   "outputs": [
    {
     "name": "stdout",
     "output_type": "stream",
     "text": [
      "finished\n",
      "iteration: 2\n",
      "k= [9.48522083]\n",
      "d= [-12.4339879]\n",
      "i= 2\n"
     ]
    },
    {
     "data": {
      "image/png": "[encoded data removed]",
      "text/plain": [
       "<Figure size 432x288 with 1 Axes>"
      ]
     },
     "metadata": {
      "needs_background": "light"
     },
     "output_type": "display_data"
    }
   ],
   "source": [
    "for i in range(100):\n",
    "    update()\n",
    "    # print(w)\n",
    "    # print(i)\n",
    "    out = np.sign(np.dot(X, w))\n",
    "    if(out == t).all(): # 如果实际输出等于期望输出, 模型收敛, 循环结束\n",
    "        print(\"finished\")\n",
    "        print(\"iteration:\",i)\n",
    "        break\n",
    "# 正样本\n",
    "x1 = [3,4]\n",
    "y1 = [3,3]\n",
    "# 负样本\n",
    "x2 = [1,0]\n",
    "y2 = [1,2]\n",
    "# 计算分界线的斜率和截距\n",
    "k = -w[1]/w[2]\n",
    "d = -w[0]/w[2]\n",
    "print(\"k=\",k)\n",
    "print(\"d=\",d)\n",
    "print(\"i=\",i)\n",
    "\n",
    "xdata = (0,5)\n",
    "\n",
    "plt.figure()\n",
    "plt.plot(xdata,xdata*k+d,\"r\")\n",
    "plt.scatter(x1, y1,c=\"b\")\n",
    "plt.scatter(x2, y2,c=\"y\")\n",
    "plt.show()"
   ]
  },
  {
   "cell_type": "code",
   "execution_count": null,
   "metadata": {},
   "outputs": [],
   "source": []
  }
 ],
 "metadata": {
  "kernelspec": {
   "display_name": "Python 3",
   "language": "python",
   "name": "python3"
  },
  "language_info": {
   "codemirror_mode": {
    "name": "ipython",
    "version": 3
   },
   "file_extension": ".py",
   "mimetype": "text/x-python",
   "name": "python",
   "nbconvert_exporter": "python",
   "pygments_lexer": "ipython3",
   "version": "3.8.3"
  }
 },
 "nbformat": 4,
 "nbformat_minor": 4
}
