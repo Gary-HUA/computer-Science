{
 "cells": [
  {
   "cell_type": "code",
   "execution_count": 4,
   "metadata": {},
   "outputs": [],
   "source": [
    "import numpy as np \n",
    "import matplotlib.pyplot as plt"
   ]
  },
  {
   "cell_type": "code",
   "execution_count": 5,
   "metadata": {},
   "outputs": [
    {
     "name": "stdout",
     "output_type": "stream",
     "text": [
      "[[-0.38687806]\n",
      " [-0.61199967]\n",
      " [ 0.19209959]]\n"
     ]
    }
   ],
   "source": [
    "x = np.array([[1,3,3],\n",
    "             [1,4,3],\n",
    "             [1,1,1],\n",
    "             [1,0,2]])\n",
    "# 标签 \n",
    "t = np.array([[1],\n",
    "              [1],\n",
    "              [-1],\n",
    "              [-1]])\n",
    "# weight initialization\n",
    "w = (np.random.random([3,1])-0.5)*2 # 结果始-1~1之间的随机数 三行一列是 三个输入 一个输出\n",
    "print(w)\n",
    "lr = 0.11\n",
    "out = 0 # neural net output\n",
    "# 权值更新x, y ,w, 1r\n",
    "def update():\n",
    "    global x ,t , w, lr\n",
    "    out =np.dot(x,w) # activate function 和感知器不同的激活函数\n",
    "    w_c = lr*(x.T.dot(t-out))/int(x.shape[0])\n",
    "    w = w+ w_c"
   ]
  },
  {
   "cell_type": "code",
   "execution_count": 6,
   "metadata": {},
   "outputs": [
    {
     "name": "stdout",
     "output_type": "stream",
     "text": [
      "k= [-1.97549373]\n",
      "d= [6.03856193]\n",
      "i= 99\n"
     ]
    },
    {
     "data": {
      "image/png": "[encoded data removed]",
      "text/plain": [
       "<Figure size 432x288 with 1 Axes>"
      ]
     },
     "metadata": {
      "needs_background": "light"
     },
     "output_type": "display_data"
    }
   ],
   "source": [
    "for i in range(100):\n",
    "    update()# update weight\n",
    "   \n",
    " #正样本\n",
    "x1 = [3,4]\n",
    "y1 = [3,3]\n",
    "# 负样本\n",
    "x2 = [1,0]\n",
    "y2 = [1,2]\n",
    "# 计算分界线的斜率和截距\n",
    "k = -w[1]/w[2]\n",
    "d = -w[0]/w[2]\n",
    "print(\"k=\",k)\n",
    "print(\"d=\",d)\n",
    "print(\"i=\",i)\n",
    "xdata = (0,5)\n",
    "plt.figure()\n",
    "plt.plot(xdata, xdata*k+d, \"r\")\n",
    "plt.scatter(x1, y1, c=\"b\")\n",
    "plt.scatter(x2, y2, c=\"y\")\n",
    "plt.show()"
   ]
  },
  {
   "cell_type": "code",
   "execution_count": null,
   "metadata": {},
   "outputs": [],
   "source": []
  }
 ],
 "metadata": {
  "kernelspec": {
   "display_name": "Python 3",
   "language": "python",
   "name": "python3"
  },
  "language_info": {
   "codemirror_mode": {
    "name": "ipython",
    "version": 3
   },
   "file_extension": ".py",
   "mimetype": "text/x-python",
   "name": "python",
   "nbconvert_exporter": "python",
   "pygments_lexer": "ipython3",
   "version": "3.8.3"
  }
 },
 "nbformat": 4,
 "nbformat_minor": 4
}
