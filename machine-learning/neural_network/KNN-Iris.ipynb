{
 "cells": [
  {
   "cell_type": "code",
   "execution_count": 1,
   "metadata": {},
   "outputs": [
    {
     "data": {
      "text/plain": [
       "'data atribution\\nsepal length, sepal width, petal length and petal width \\nclass : iris setosa, iris versicolor, iris virginica\\n'"
      ]
     },
     "execution_count": 1,
     "metadata": {},
     "output_type": "execute_result"
    }
   ],
   "source": [
    "\"\"\"data atribution\n",
    "sepal length, sepal width, petal length and petal width \n",
    "class : iris setosa, iris versicolor, iris virginica\n",
    "\"\"\""
   ]
  },
  {
   "cell_type": "code",
   "execution_count": 32,
   "metadata": {},
   "outputs": [],
   "source": [
    "import numpy as np \n",
    "from sklearn import datasets\n",
    "from sklearn.model_selection import train_test_split\n",
    "from sklearn.metrics import classification_report, confusion_matrix\n",
    "import operator\n",
    "import random"
   ]
  },
  {
   "cell_type": "code",
   "execution_count": 33,
   "metadata": {},
   "outputs": [],
   "source": [
    "# knn implement\n",
    "def knn(x_test, x_data, y_data, k):\n",
    "    # calculate sample acount\n",
    "    x_data_size =x_data.shape[0]\n",
    "    np.tile(x_test, (x_data_size, 1))\n",
    "    # calculate x_test different value\n",
    "    diffMat = np.tile(x_test, (x_data_size, 1)) - x_data\n",
    "    # calculate sqrt\n",
    "    sqDiffMat = diffMat **2\n",
    "    # sum \n",
    "    sqDistance = sqDiffMat.sum(axis=1)\n",
    "    # root\n",
    "    distance = sqDistance ** 0.5\n",
    "    # sort \n",
    "    sortedDistances = distance.argsort()\n",
    "    classCount = {}\n",
    "    for i in range(k):\n",
    "        votelabel = y_data[sortedDistances[i]]\n",
    "        # 统计标签数量\n",
    "        classCount[votelabel] = classCount.get(votelabel, 0) + 1\n",
    "        # 根据operator.itemgetter(1)第一个值对classcount排序, 然后取倒序\n",
    "        sortedClassCount = sorted(classCount.items(), key = operator.itemgetter(1), reverse = True)\n",
    "        # 获取数据最多的标签\n",
    "        return sortedClassCount[0][0]  "
   ]
  },
  {
   "cell_type": "code",
   "execution_count": 34,
   "metadata": {},
   "outputs": [],
   "source": [
    "# read data \n",
    "iris = datasets.load_iris()\n",
    "# x_train, x_test, y_train, y_test, = train_test_split(iris.data, iris.target, test_size=0.2)# 分割数据0.2为测试数据\n"
   ]
  },
  {
   "cell_type": "code",
   "execution_count": 35,
   "metadata": {},
   "outputs": [],
   "source": [
    "# 打乱数据 \n",
    "data_size = iris.data.shape[0]\n",
    "data_size\n",
    "index = [i for i in range(data_size)]\n",
    "# 随机打乱了数据的排序, 同时数据和标签也跟随随机进行了更新\n",
    "random.shuffle(index)\n",
    "index\n",
    "iris.data = iris.data[index]\n",
    "iris.target = iris.target[index]"
   ]
  },
  {
   "cell_type": "code",
   "execution_count": 36,
   "metadata": {},
   "outputs": [
    {
     "name": "stdout",
     "output_type": "stream",
     "text": [
      "              precision    recall  f1-score   support\n",
      "\n",
      "           0       1.00      1.00      1.00        10\n",
      "           1       1.00      0.94      0.97        18\n",
      "           2       0.92      1.00      0.96        12\n",
      "\n",
      "    accuracy                           0.97        40\n",
      "   macro avg       0.97      0.98      0.98        40\n",
      "weighted avg       0.98      0.97      0.98        40\n",
      "\n"
     ]
    }
   ],
   "source": [
    "# slice datasets\n",
    "test_size = 40\n",
    "x_test = iris.data[:test_size]\n",
    "x_train = iris.data[test_size:]\n",
    "y_test = iris.target[:test_size]\n",
    "y_train = iris.target[test_size:]\n",
    "predictions = []\n",
    "for i in  range(x_test.shape[0]):\n",
    "    predictions.append(knn(x_test[i], x_train, y_train, 5))\n",
    "print(classification_report(y_test, predictions))\n"
   ]
  },
  {
   "cell_type": "code",
   "execution_count": 37,
   "metadata": {},
   "outputs": [
    {
     "name": "stdout",
     "output_type": "stream",
     "text": [
      "[[10  0  0]\n",
      " [ 0 17  1]\n",
      " [ 0  0 12]]\n"
     ]
    }
   ],
   "source": [
    "print(confusion_matrix(y_test, predictions))"
   ]
  },
  {
   "cell_type": "code",
   "execution_count": null,
   "metadata": {},
   "outputs": [],
   "source": []
  }
 ],
 "metadata": {
  "kernelspec": {
   "display_name": "Python 3",
   "language": "python",
   "name": "python3"
  },
  "language_info": {
   "codemirror_mode": {
    "name": "ipython",
    "version": 3
   },
   "file_extension": ".py",
   "mimetype": "text/x-python",
   "name": "python",
   "nbconvert_exporter": "python",
   "pygments_lexer": "ipython3",
   "version": "3.8.3"
  }
 },
 "nbformat": 4,
 "nbformat_minor": 4
}
