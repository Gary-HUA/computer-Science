{
 "cells": [
  {
   "cell_type": "code",
   "execution_count": 6,
   "metadata": {},
   "outputs": [],
   "source": [
    "import matplotlib.pyplot as plt\n",
    "import numpy as np \n",
    "import operator"
   ]
  },
  {
   "cell_type": "code",
   "execution_count": 7,
   "metadata": {},
   "outputs": [
    {
     "data": {
      "image/png": "[encoded data removed]",
      "text/plain": [
       "<Figure size 432x288 with 1 Axes>"
      ]
     },
     "metadata": {
      "needs_background": "light"
     },
     "output_type": "display_data"
    }
   ],
   "source": [
    "# 分类样本\n",
    "x1 = np.array([3,2,1])\n",
    "y1 = np.array([104, 100, 81])\n",
    "\n",
    "x2 = np.array([101,99, 98])\n",
    "y2 = np.array([10,5,2])\n",
    "\n",
    "scatter1 = plt.scatter(x1, y1, c=\"r\")\n",
    "scatter2 = plt.scatter(x2, y2, c=\"b\")\n",
    "\n",
    "# unkonw sample\n",
    "x = np.array([30])\n",
    "y = np.array([65])\n",
    "scatter3 = plt. scatter(x, y, c =\"k\")\n",
    "\n",
    "# drawing lable\n",
    "plt.legend(handles = [scatter1, scatter2, scatter3], labels=[\"lableA\",\"labelB\",\"X\"], loc=\"best\")\n",
    "plt.show()"
   ]
  },
  {
   "cell_type": "code",
   "execution_count": 15,
   "metadata": {},
   "outputs": [],
   "source": [
    "# konwn data \n",
    "x_data = np.array([[3,104],\n",
    "                  [2,100],\n",
    "                  [1,81],\n",
    "                  [101,10],\n",
    "                  [99,5],\n",
    "                  [81,2]])\n",
    "y_data = np .array([\"A\",\"A\",\"A\",\"B\",\"B\",\"B\"])\n",
    "x_test = np.array([30,65])"
   ]
  },
  {
   "cell_type": "code",
   "execution_count": 16,
   "metadata": {},
   "outputs": [
    {
     "data": {
      "text/plain": [
       "6"
      ]
     },
     "execution_count": 16,
     "metadata": {},
     "output_type": "execute_result"
    }
   ],
   "source": [
    "# calculate sample amount\n",
    "x_data_size = x_data.shape[0]\n",
    "x_data_size"
   ]
  },
  {
   "cell_type": "code",
   "execution_count": 17,
   "metadata": {},
   "outputs": [
    {
     "data": {
      "text/plain": [
       "array([[30, 65],\n",
       "       [30, 65],\n",
       "       [30, 65],\n",
       "       [30, 65],\n",
       "       [30, 65],\n",
       "       [30, 65]])"
      ]
     },
     "execution_count": 17,
     "metadata": {},
     "output_type": "execute_result"
    }
   ],
   "source": [
    "# copy x_test  因为unkonw样本要和每个known样本进行计算 复制出来进行计算\n",
    "np.tile(x_test, (x_data_size,1))# x_data 长度的x_test 数据 复制一份"
   ]
  },
  {
   "cell_type": "code",
   "execution_count": 32,
   "metadata": {},
   "outputs": [
    {
     "name": "stdout",
     "output_type": "stream",
     "text": [
      "different= [[ 27 -39]\n",
      " [ 28 -35]\n",
      " [ 29 -16]\n",
      " [-71  55]\n",
      " [-69  60]\n",
      " [-51  63]]\n",
      "--------\n",
      "different squart= [[ 729 1521]\n",
      " [ 784 1225]\n",
      " [ 841  256]\n",
      " [5041 3025]\n",
      " [4761 3600]\n",
      " [2601 3969]]\n",
      "sum= [2250 2009 1097 8066 8361 6570]\n",
      "Euclidean_diatance= [47.4341649  44.82186966 33.12099032 89.81091248 91.43850392 81.05553652]\n"
     ]
    }
   ],
   "source": [
    "# Euclidean distance :\n",
    "# 1. different value\n",
    "diffMat = np.tile(x_test, (x_data_size, 1)) - x_data\n",
    "print(\"different=\", diffMat)\n",
    "print(\"--------\")\n",
    "# different sqrt\n",
    "sqdiffMat = diffMat **2\n",
    "print(\"different squart=\", sqdiffMat)\n",
    "# sum \n",
    "sq_distance = sqdiffMat.sum(axis=1)\n",
    "print(\"sum=\",sq_distance)\n",
    "# root \n",
    "euc_dis = sq_distance**0.5\n",
    "print(\"Euclidean_diatance=\", euc_dis)"
   ]
  },
  {
   "cell_type": "code",
   "execution_count": 34,
   "metadata": {},
   "outputs": [
    {
     "name": "stdout",
     "output_type": "stream",
     "text": [
      "[2 1 0 5 3 4]\n"
     ]
    }
   ],
   "source": [
    "# sort euclidean distance \n",
    "sortedEuclidean = euc_dis.argsort() # 得出的大小数字的下标\n",
    "print(sortedEuclidean)"
   ]
  },
  {
   "cell_type": "code",
   "execution_count": 39,
   "metadata": {},
   "outputs": [
    {
     "data": {
      "text/plain": [
       "{'A': 3, 'B': 2}"
      ]
     },
     "execution_count": 39,
     "metadata": {},
     "output_type": "execute_result"
    }
   ],
   "source": [
    "# reset k value \n",
    "classCount = {}  # 字典 用于存放投票\n",
    "k = 5\n",
    "for i in range(k):\n",
    "    # label \n",
    "    votelabel = y_data [sortedEuclidean[i]]\n",
    "    # count label acount\n",
    "    classCount[votelabel] = classCount.get(votelabel,0) + 1\n",
    "classCount"
   ]
  },
  {
   "cell_type": "code",
   "execution_count": 40,
   "metadata": {},
   "outputs": [
    {
     "data": {
      "text/plain": [
       "[('A', 3), ('B', 2)]"
      ]
     },
     "execution_count": 40,
     "metadata": {},
     "output_type": "execute_result"
    }
   ],
   "source": [
    "# 根据operator.itemgetter(1) 第一个值对classCount 排序\n",
    "sortedclassCount = sorted(classCount.items(), key = operator.itemgetter(1), reverse=True)\n",
    "sortedclassCount"
   ]
  },
  {
   "cell_type": "code",
   "execution_count": 41,
   "metadata": {},
   "outputs": [
    {
     "data": {
      "text/plain": [
       "'A'"
      ]
     },
     "execution_count": 41,
     "metadata": {},
     "output_type": "execute_result"
    }
   ],
   "source": [
    "# 获得最多的label \n",
    "knnclass = sortedclassCount[0][0]\n",
    "knnclass"
   ]
  },
  {
   "cell_type": "code",
   "execution_count": null,
   "metadata": {},
   "outputs": [],
   "source": []
  }
 ],
 "metadata": {
  "kernelspec": {
   "display_name": "Python 3",
   "language": "python",
   "name": "python3"
  },
  "language_info": {
   "codemirror_mode": {
    "name": "ipython",
    "version": 3
   },
   "file_extension": ".py",
   "mimetype": "text/x-python",
   "name": "python",
   "nbconvert_exporter": "python",
   "pygments_lexer": "ipython3",
   "version": "3.8.3"
  }
 },
 "nbformat": 4,
 "nbformat_minor": 4
}
