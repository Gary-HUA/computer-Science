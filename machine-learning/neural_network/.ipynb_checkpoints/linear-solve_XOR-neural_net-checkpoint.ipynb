{
 "cells": [
  {
   "cell_type": "code",
   "execution_count": 42,
   "metadata": {},
   "outputs": [],
   "source": [
    "import numpy as np \n",
    "import matplotlib.pyplot as plt"
   ]
  },
  {
   "cell_type": "code",
   "execution_count": 43,
   "metadata": {},
   "outputs": [
    {
     "name": "stdout",
     "output_type": "stream",
     "text": [
      "[ 0.40997793  0.0282474   0.32949284 -0.765335   -0.13216505 -0.19078987]\n"
     ]
    }
   ],
   "source": [
    "# read data 这里是训练模型需要的数据\n",
    "x = np.array([[1,0,0,0,0,0],# 本来数据是3个 x0,x1 这里使用的对神经元添加非线性输入 需要添加数据x1**2, x1*x2, x2**2\n",
    "             [1,0,1,0,0,1],\n",
    "             [1,1,0,1,0,0],\n",
    "             [1,1,1,1,1,1]])\n",
    "# 标签  因为XOR问题 相对于对测试点进行了异或标签\n",
    "t = np.array([-1,1,1,-1])\n",
    "# weight initialization\n",
    "w = (np.random.random(6)-0.5)*2 # 结果始-1~1之间的随机数 三行一列是 三个输入 一个输出\n",
    "print(w)\n",
    "lr = 0.11\n",
    "out = 0 # neural net output\n",
    "# 计算迭代次数\n",
    "n=0\n",
    "# 权值更新x, y ,w, 1r\n",
    "def update():\n",
    "    global x ,t , w, lr,n\n",
    "    n += 1\n",
    "    out =np.dot(x,w.T) # activate function 和感知器不同的激活函数\n",
    "    w_c = lr*(t-out.T).dot(x)/int(x.shape[0])\n",
    "    w = w+ w_c"
   ]
  },
  {
   "cell_type": "code",
   "execution_count": 46,
   "metadata": {},
   "outputs": [
    {
     "data": {
      "image/png": "[encoded data removed]",
      "text/plain": [
       "<Figure size 432x288 with 1 Axes>"
      ]
     },
     "metadata": {
      "needs_background": "light"
     },
     "output_type": "display_data"
    }
   ],
   "source": [
    "for i in range(1000):\n",
    "    update()# update weight\n",
    "    # 在感知器 我们接下来进行了权值和输入是否一致,是否收敛,需要停止迭代, 这里如果使用相同的模型收敛,\n",
    "    # 会不准确 -0.1, 0.1 0.2, -0.2 --> -1, 1,1,1 -1看起来和期望值一样,\n",
    "    # 我们直接使用 迭代1000次进行收敛\n",
    "   \n",
    " #正样本\n",
    "x1 = [0,1]\n",
    "y1 = [1,0]\n",
    "# 负样本\n",
    "x2 = [0,1]\n",
    "y2 = [0,1]\n",
    "# 不需要计算分界线的斜率和截距 不是一条直线 需要计算然后画出来\n",
    "# 计算决策边界 我们需要计算 方程x0w0+x1w1+x2w2+x1**2+w3+(x1*x2)w4+x2**2w5\n",
    "def calculate(x, root):\n",
    "    a = w[5]\n",
    "    b = w[2]+ x*w[4]\n",
    "    c = w[0]+ x*w[1] + x*x*w[5]\n",
    "    if root ==1:\n",
    "        return (-b+np.sqrt(b*b-4*a*c))/(2*a)\n",
    "    if root == 2:\n",
    "        return (-b-np.sqrt(b*b-4*a*c))/(2*a)\n",
    "xdata = np.linspace(-1,2)\n",
    "#xdata = (0,5)\n",
    "plt.figure()\n",
    "\n",
    "plt.plot(xdata, calculate(xdata,1), \"r\")\n",
    "plt.plot(xdata, calculate(xdata,2),\"r\")\n",
    "\n",
    "plt.scatter(x1, y1, c=\"b\")\n",
    "plt.scatter(x2, y2, c=\"y\")\n",
    "plt.show()"
   ]
  },
  {
   "cell_type": "code",
   "execution_count": null,
   "metadata": {},
   "outputs": [],
   "source": []
  }
 ],
 "metadata": {
  "kernelspec": {
   "display_name": "Python 3",
   "language": "python",
   "name": "python3"
  },
  "language_info": {
   "codemirror_mode": {
    "name": "ipython",
    "version": 3
   },
   "file_extension": ".py",
   "mimetype": "text/x-python",
   "name": "python",
   "nbconvert_exporter": "python",
   "pygments_lexer": "ipython3",
   "version": "3.8.3"
  }
 },
 "nbformat": 4,
 "nbformat_minor": 4
}
