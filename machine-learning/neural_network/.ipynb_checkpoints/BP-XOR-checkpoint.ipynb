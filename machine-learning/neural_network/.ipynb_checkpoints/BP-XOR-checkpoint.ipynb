{
 "cells": [
  {
   "cell_type": "code",
   "execution_count": 53,
   "metadata": {},
   "outputs": [],
   "source": [
    "import numpy as np \n",
    "import matplotlib.pyplot as plt"
   ]
  },
  {
   "cell_type": "code",
   "execution_count": 54,
   "metadata": {},
   "outputs": [
    {
     "name": "stdout",
     "output_type": "stream",
     "text": [
      "[[-0.47017656]\n",
      " [ 0.41664484]\n",
      " [-0.99357056]\n",
      " [-0.34425456]]\n",
      "[[-0.05314406 -0.0975298   0.66649307 -0.14874207]\n",
      " [ 0.02297998 -0.4080416   0.47491151 -0.66735152]\n",
      " [-0.19121918  0.80699669  0.71163008 -0.90379991]]\n"
     ]
    }
   ],
   "source": [
    "# read data 这里是训练模型需要的数据\n",
    "x = np.array([[1,0,0],# \n",
    "             [1,0,1],\n",
    "             [1,1,0],\n",
    "             [1,1,1]])\n",
    "# 标签  因为XOR问题 相对于对测试点进行了异或标签\n",
    "t = np.array([[0,1,1,0]])\n",
    "# weight initialization\n",
    "v = np.random.random((3,4))*2 -1\n",
    "w = np.random.random((4,1))*2 -1 # 结果始-1~1之间的随机数\n",
    "print(w)\n",
    "print(v)\n",
    "lr = 0.11\n",
    "\n",
    "def sigmoid(x):\n",
    "    return 1/(1+ np.exp(-x))\n",
    "\n",
    "def dsigmoid(x): # sigmoid 导数derivative\n",
    "    return x*(1-x)\n",
    "\n",
    "# 权值更新x, t ,w, v,1r\n",
    "def update():\n",
    "    global x ,t , w, v, lr\n",
    "    L1 = sigmoid(np.dot(x,v)) # hidden layer output(4,4)\n",
    "    L2 = sigmoid(np.dot(L1,w))# output layer result (4,1)\n",
    "    \n",
    "    L2_delta = (t.T - L2)*dsigmoid(L2)\n",
    "    L1_delta = L2_delta.dot(w.T)*dsigmoid(L1)\n",
    "    \n",
    "    w_c = lr * L1.T.dot(L2_delta)\n",
    "    v_c = lr * x.T.dot(L1_delta)\n",
    "    \n",
    "    w = w + w_c\n",
    "    v = v + v_c\n"
   ]
  },
  {
   "cell_type": "code",
   "execution_count": 56,
   "metadata": {},
   "outputs": [
    {
     "name": "stdout",
     "output_type": "stream",
     "text": [
      "error: 0.02263680334788006\n",
      "error: 0.022221490354179817\n",
      "error: 0.02182647078188674\n",
      "error: 0.021450190632626473\n",
      "error: 0.02109125492177187\n",
      "error: 0.020748407573708397\n",
      "error: 0.020420514314838215\n",
      "error: 0.02010654805322333\n",
      "error: 0.01980557633124939\n",
      "error: 0.01951675051470663\n",
      "error: 0.01923929644291088\n",
      "error: 0.018972506313441086\n",
      "error: 0.01871573161442529\n",
      "error: 0.01846837694912159\n",
      "error: 0.01822989462337414\n",
      "error: 0.017999779887618767\n",
      "error: 0.01777756674240072\n",
      "error: 0.017562824230611083\n",
      "error: 0.01735515315141941\n",
      "error: 0.01715418314066493\n",
      "error: 0.016959570070612447\n",
      "error: 0.016770993728800768\n",
      "error: 0.016588155741436555\n",
      "error: 0.01641077771160594\n",
      "error: 0.016238599546655318\n",
      "error: 0.016071377952548233\n",
      "error: 0.015908885075942288\n",
      "error: 0.015750907277241634\n",
      "error: 0.015597244020022001\n",
      "error: 0.015447706864064303\n",
      "error: 0.015302118550818842\n",
      "error: 0.015160312171482412\n",
      "error: 0.015022130409051742\n",
      "error: 0.014887424846738188\n",
      "error: 0.01475605533601414\n",
      "error: 0.01462788941833677\n",
      "error: 0.014502801795265724\n",
      "error: 0.01438067384228071\n",
      "error: 0.014261393162122746\n",
      "error: 0.01414485317393115\n",
      "[[0.01083782]\n",
      " [0.98695227]\n",
      " [0.98505851]\n",
      " [0.01729768]]\n",
      "0\n",
      "1\n",
      "1\n",
      "0\n"
     ]
    }
   ],
   "source": [
    "for i in range(20000):\n",
    "    update()\n",
    "    if i % 500 == 0:\n",
    "        L1 = sigmoid(np.dot(x,v))\n",
    "        L2 = sigmoid(np.dot(L1, w))\n",
    "        \n",
    "        print(\"error:\", np.mean(np.abs(t.T - L2)))\n",
    "L1 = sigmoid(np.dot(x,v))\n",
    "L2 = sigmoid(np.dot(L1, w))\n",
    "print(L2)\n",
    "# 实质的输出\n",
    "def judge(x):\n",
    "    if x>=0.5:\n",
    "        return 1\n",
    "    else:\n",
    "        return 0\n",
    "for i in map(judge, L2):\n",
    "    print(i)"
   ]
  },
  {
   "cell_type": "code",
   "execution_count": null,
   "metadata": {},
   "outputs": [],
   "source": []
  },
  {
   "cell_type": "code",
   "execution_count": null,
   "metadata": {},
   "outputs": [],
   "source": []
  }
 ],
 "metadata": {
  "kernelspec": {
   "display_name": "Python 3",
   "language": "python",
   "name": "python3"
  },
  "language_info": {
   "codemirror_mode": {
    "name": "ipython",
    "version": 3
   },
   "file_extension": ".py",
   "mimetype": "text/x-python",
   "name": "python",
   "nbconvert_exporter": "python",
   "pygments_lexer": "ipython3",
   "version": "3.8.3"
  }
 },
 "nbformat": 4,
 "nbformat_minor": 4
}
