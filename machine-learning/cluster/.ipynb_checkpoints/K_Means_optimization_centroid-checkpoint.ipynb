{
 "cells": [
  {
   "cell_type": "code",
   "execution_count": 8,
   "metadata": {},
   "outputs": [],
   "source": [
    "# 通过 多次随机初始化 得到最小代价函数  作为聚类结果 optimizative centroid.陷入局部最小值\n",
    "import numpy as np \n",
    "import matplotlib.pyplot as plt"
   ]
  },
  {
   "cell_type": "code",
   "execution_count": 23,
   "metadata": {},
   "outputs": [],
   "source": [
    "# read data \n",
    "data = np.genfromtxt(\"kmeans.txt\", delimiter =\" \")"
   ]
  },
  {
   "cell_type": "code",
   "execution_count": 24,
   "metadata": {},
   "outputs": [],
   "source": [
    "# training model \n",
    "# caculate distance \n",
    "def euclDistance(vector1, vector2):\n",
    "    return np.sqrt(sum(vector2-vector1)**2)\n",
    "# initialization centroid \n",
    "def initCentroids(data, k):\n",
    "    numSamples, dim = data.shape\n",
    "    centroids = np.zeros((k, dim))\n",
    "    for i in range(k):\n",
    "        index = int(np.random.uniform(0, numSamples))\n",
    "        centroids[i, :] = data[index, :]\n",
    "    return centroids\n",
    "\n",
    "# incomming data and k \n",
    "def kmeans(data, k):\n",
    "    numSamples = data.shape[0]\n",
    "    clusterData = np.array(np.zeros((numSamples, 2)))\n",
    "    clusterChanged = True\n",
    "    centroids = initCentroids(data, k)\n",
    "    while clusterChanged:\n",
    "        clusterChanged  = False\n",
    "        for i in range(numSamples):\n",
    "            minDist = 100000.0\n",
    "            minIndex = 0\n",
    "            for j in range(k):\n",
    "                distance = euclDistance(centroids[j, :], data[i, :])\n",
    "                if distance < minDist:\n",
    "                    minDist = distance\n",
    "                    minIndex = j \n",
    "                    clusterData[i,1] = distance \n",
    "            if clusterData[i, 0] != minIndex:\n",
    "                clusterChanged = True \n",
    "                clusterData[i, 0] = minIndex\n",
    "        for j in range (k):\n",
    "            cluster_index = np.nonzero(clusterData[:, 0] ==j)\n",
    "            pointsInCluster = data[cluster_index]\n",
    "            centroids[j, :] = np.mean(pointsInCluster, axis=0)\n",
    "    return centroids, clusterData  \n"
   ]
  },
  {
   "cell_type": "code",
   "execution_count": 25,
   "metadata": {},
   "outputs": [],
   "source": [
    "# show result     \n",
    "def showCluster(data, k, centroid, clusterData):\n",
    "    numSamples, dim = data.shape\n",
    "    if dim!=2:\n",
    "        print(\"dimension of your data is not 2!\")\n",
    "        return 1\n",
    "    # 用不同颜色绘制类别\n",
    "    mark = [\"or\",\"ob\", \"og\",\"ok\", \"^r\", \"+r\",\"st\",\"dr\",\"<r\",\"pr\"]\n",
    "    if k >len(mark):\n",
    "        print(\"your k is too large\")\n",
    "        return 1 \n",
    "    # drawing sample point \n",
    "    for i in range (numSamples):\n",
    "        markIndex = int(clusterData[i,0])\n",
    "        plt.plot(data[i,0], data[i, 1], mark[markIndex])\n",
    "    # use different color dicribe class  \n",
    "    mark = [\"*r\", \"*b\", \"*g\",\"*k\", \"^b\", \"+b\", \"sb\", \"db\", \"<b\", \"pb\"]\n",
    "    # drawing centroid \n",
    "    for i in range(k):\n",
    "        plt.plot(centroids[i, 0], centroids[i,1], mark[i], markersize = 20)\n",
    "        \n",
    "    plt.show()"
   ]
  },
  {
   "cell_type": "code",
   "execution_count": 33,
   "metadata": {},
   "outputs": [
    {
     "name": "stdout",
     "output_type": "stream",
     "text": [
      "cluster complete\n"
     ]
    },
    {
     "data": {
      "image/png": "[encoded data removed]",
      "text/plain": [
       "<Figure size 432x288 with 1 Axes>"
      ]
     },
     "metadata": {
      "needs_background": "light"
     },
     "output_type": "display_data"
    }
   ],
   "source": [
    "# k \n",
    "k = 3\n",
    "min_loss = 10000\n",
    "min_loss_centroid = np.array([])\n",
    "min_loss_clusterData = np.array([])\n",
    "for i in range (50):\n",
    "    centroids, clusterData = kmeans(data, k)\n",
    "    loss = sum(clusterData[:, 1])/data.shape[0]\n",
    "    if loss < min_loss: \n",
    "        min_loss = loss \n",
    "        min_loss_centroids = centroids \n",
    "        min_loss_clusterData = clusterData\n",
    "        \n",
    "print(\"cluster complete\")\n",
    "centroids = min_loss_centroids \n",
    "clusterData = min_loss_clusterData \n",
    "showCluster(data, k, centroids, clusterData)"
   ]
  },
  {
   "cell_type": "code",
   "execution_count": 34,
   "metadata": {},
   "outputs": [
    {
     "data": {
      "text/plain": [
       "array([[0.5, 0.4],\n",
       "       [0.5, 0.4],\n",
       "       [0.5, 0.4]])"
      ]
     },
     "execution_count": 34,
     "metadata": {},
     "output_type": "execute_result"
    }
   ],
   "source": [
    "# 做预测  \n",
    "\n",
    "x_test = [0.5,0.4]\n",
    "np.tile(x_test, (k,1))"
   ]
  },
  {
   "cell_type": "code",
   "execution_count": 35,
   "metadata": {},
   "outputs": [
    {
     "data": {
      "text/plain": [
       "array([[ 0.1275    ,  0.2252    ],\n",
       "       [-0.2322    , -0.0232    ],\n",
       "       [-0.06826667,  0.1082    ]])"
      ]
     },
     "execution_count": 35,
     "metadata": {},
     "output_type": "execute_result"
    }
   ],
   "source": [
    "# 误差 error \n",
    "np.tile(x_test, (k,1)) - centroids"
   ]
  },
  {
   "cell_type": "code",
   "execution_count": 36,
   "metadata": {},
   "outputs": [
    {
     "data": {
      "text/plain": [
       "array([0.06697129, 0.05445508, 0.01636758])"
      ]
     },
     "execution_count": 36,
     "metadata": {},
     "output_type": "execute_result"
    }
   ],
   "source": [
    "# 误差平方和  \n",
    "((np.tile(x_test,(k,1))-centroids)**2).sum(axis=1)"
   ]
  },
  {
   "cell_type": "code",
   "execution_count": 37,
   "metadata": {},
   "outputs": [
    {
     "data": {
      "text/plain": [
       "2"
      ]
     },
     "execution_count": 37,
     "metadata": {},
     "output_type": "execute_result"
    }
   ],
   "source": [
    "# 最小值所在的索引\n",
    "np.argmin(((np.tile(x_test,(k,1))-centroids)**2).sum(axis=1))"
   ]
  },
  {
   "cell_type": "code",
   "execution_count": 38,
   "metadata": {},
   "outputs": [],
   "source": [
    "def predict(datas):\n",
    "    return np.array([np.argmin(((np.tile(data, (k,1))-centroids)**2).sum(axis=1))for data in datas])"
   ]
  },
  {
   "cell_type": "code",
   "execution_count": 39,
   "metadata": {},
   "outputs": [
    {
     "data": {
      "image/png": "[encoded data removed]",
      "text/plain": [
       "<Figure size 432x288 with 1 Axes>"
      ]
     },
     "metadata": {
      "needs_background": "light"
     },
     "output_type": "display_data"
    }
   ],
   "source": [
    "# 画出簇的作用区域\n",
    "x_min, x_max = data[:, 0].min()-1, data[:,0].max()+1\n",
    "y_min, y_max = data[:,1].min()-1, data[:,1].max()+1\n",
    "xx, yy = np.meshgrid(np.arange(x_min, x_max, 0.04),\n",
    "                    np.arange(y_min, y_max, 0.04))\n",
    "z = predict(np.c_[xx.ravel(), yy.ravel()])\n",
    "z = z.reshape(xx.shape)\n",
    "cl = plt.contourf(xx, yy, z)\n",
    "# 显示结果 \n",
    "showCluster(data, k, centroids, clusterData)"
   ]
  },
  {
   "cell_type": "code",
   "execution_count": null,
   "metadata": {},
   "outputs": [],
   "source": []
  }
 ],
 "metadata": {
  "kernelspec": {
   "display_name": "Python 3",
   "language": "python",
   "name": "python3"
  },
  "language_info": {
   "codemirror_mode": {
    "name": "ipython",
    "version": 3
   },
   "file_extension": ".py",
   "mimetype": "text/x-python",
   "name": "python",
   "nbconvert_exporter": "python",
   "pygments_lexer": "ipython3",
   "version": "3.8.5"
  }
 },
 "nbformat": 4,
 "nbformat_minor": 4
}
