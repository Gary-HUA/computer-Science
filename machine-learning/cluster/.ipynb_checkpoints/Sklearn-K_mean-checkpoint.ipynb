{
 "cells": [
  {
   "cell_type": "code",
   "execution_count": 53,
   "metadata": {},
   "outputs": [],
   "source": [
    "# 使用 sklearn 的kmean包  \n",
    "from sklearn.cluster import KMeans\n",
    "import numpy as np \n",
    "import matplotlib.pyplot as plt"
   ]
  },
  {
   "cell_type": "code",
   "execution_count": 54,
   "metadata": {},
   "outputs": [],
   "source": [
    "# read data \n",
    "data = np.genfromtxt(\"kmeans.txt\", delimiter=\" \")\n",
    "k=4"
   ]
  },
  {
   "cell_type": "code",
   "execution_count": 55,
   "metadata": {},
   "outputs": [
    {
     "data": {
      "text/plain": [
       "KMeans(n_clusters=4)"
      ]
     },
     "execution_count": 55,
     "metadata": {},
     "output_type": "execute_result"
    }
   ],
   "source": [
    "# training model \n",
    "model = KMeans(n_clusters=k)\n",
    "model.fit(data)"
   ]
  },
  {
   "cell_type": "code",
   "execution_count": 56,
   "metadata": {},
   "outputs": [
    {
     "name": "stdout",
     "output_type": "stream",
     "text": [
      "[[0.6515     0.16325   ]\n",
      " [0.348      0.18955556]\n",
      " [0.471      0.39928571]\n",
      " [0.7115     0.40566667]]\n"
     ]
    }
   ],
   "source": [
    "# classification center point coordination\n",
    "centers = model.cluster_centers_\n",
    "print(centers)"
   ]
  },
  {
   "cell_type": "code",
   "execution_count": 57,
   "metadata": {},
   "outputs": [
    {
     "name": "stdout",
     "output_type": "stream",
     "text": [
      "[3 1 1 0 0 3 3 1 1 0 3 2 0 1 0 1 2 2 3 0 0 1 2 3 0 1 2 1 2 2]\n"
     ]
    }
   ],
   "source": [
    "# predict result \n",
    "result = model.predict(data)\n",
    "print(result)"
   ]
  },
  {
   "cell_type": "code",
   "execution_count": 58,
   "metadata": {},
   "outputs": [
    {
     "data": {
      "text/plain": [
       "array([3, 1, 1, 0, 0, 3, 3, 1, 1, 0, 3, 2, 0, 1, 0, 1, 2, 2, 3, 0, 0, 1,\n",
       "       2, 3, 0, 1, 2, 1, 2, 2])"
      ]
     },
     "execution_count": 58,
     "metadata": {},
     "output_type": "execute_result"
    }
   ],
   "source": [
    "model.labels_\n"
   ]
  },
  {
   "cell_type": "code",
   "execution_count": 59,
   "metadata": {},
   "outputs": [
    {
     "data": {
      "image/png": "[encoded data removed]",
      "text/plain": [
       "<Figure size 432x288 with 1 Axes>"
      ]
     },
     "metadata": {
      "needs_background": "light"
     },
     "output_type": "display_data"
    }
   ],
   "source": [
    "# drawing data point , colorful\n",
    "mark =[\"or\",\"ob\",\"og\",\"oy\"]\n",
    "for i, d in enumerate(data):\n",
    "    plt.plot(d[0],d[1], mark[result[i]])\n",
    "# drawing center of class \n",
    "mark = [\"*r\", \"*b\", \"*g\",\"*y\"]\n",
    "for i, centers in enumerate(centers):\n",
    "    plt.plot(centers[0], centers[1], mark[i], markersize=20)\n",
    "plt.show()\n"
   ]
  },
  {
   "cell_type": "code",
   "execution_count": null,
   "metadata": {},
   "outputs": [],
   "source": []
  }
 ],
 "metadata": {
  "kernelspec": {
   "display_name": "Python 3",
   "language": "python",
   "name": "python3"
  },
  "language_info": {
   "codemirror_mode": {
    "name": "ipython",
    "version": 3
   },
   "file_extension": ".py",
   "mimetype": "text/x-python",
   "name": "python",
   "nbconvert_exporter": "python",
   "pygments_lexer": "ipython3",
   "version": "3.8.5"
  }
 },
 "nbformat": 4,
 "nbformat_minor": 4
}
