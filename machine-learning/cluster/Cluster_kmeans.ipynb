{
 "cells": [
  {
   "cell_type": "code",
   "execution_count": 1,
   "metadata": {},
   "outputs": [],
   "source": [
    "import numpy as np \n",
    "import matplotlib.pyplot as plt"
   ]
  },
  {
   "cell_type": "code",
   "execution_count": 9,
   "metadata": {},
   "outputs": [
    {
     "name": "stdout",
     "output_type": "stream",
     "text": [
      "[[0.697 0.46 ]\n",
      " [0.403 0.237]\n",
      " [0.245 0.057]]\n",
      "(30, 2)\n"
     ]
    }
   ],
   "source": [
    "data = np.genfromtxt(\"kmeans.txt\", delimiter=\"\")\n",
    "print(data[:3])\n",
    "print(data.shape)"
   ]
  },
  {
   "cell_type": "code",
   "execution_count": 8,
   "metadata": {},
   "outputs": [
    {
     "data": {
      "image/png": "[encoded data removed]",
      "text/plain": [
       "<Figure size 432x288 with 1 Axes>"
      ]
     },
     "metadata": {
      "needs_background": "light"
     },
     "output_type": "display_data"
    }
   ],
   "source": [
    "plt.scatter(data[:,0], data[:,1])\n",
    "plt.show()"
   ]
  },
  {
   "cell_type": "code",
   "execution_count": 18,
   "metadata": {},
   "outputs": [],
   "source": [
    "# Training model \n",
    "# calculate distance \n",
    "def EucliDistance (vector1, vector2):\n",
    "    return np.sqrt(sum(vector2 - vector1)**2)\n",
    "# initialization centroid\n",
    "def initCentroids(data, k):\n",
    "    numSamples, dim = data.shape\n",
    "    centroids = np.zeros((k, dim)) # k 个 CENTROID 列数和样本列数一样\n",
    "    # random selecting  k centroid\n",
    "    for i in range(k):\n",
    "        index = int (np.random.uniform(0, numSamples))# random selecting sample's index\n",
    "        # as the centroid \n",
    "        centroids[i, : ] = data[index, : ]\n",
    "    return centroids\n",
    "\n",
    "# trans dataset and k value\n",
    "def kmeans(data, k):\n",
    "    numSamples = data.shape[0] # sample account\n",
    "    # 样本的属性, 第一列保存该样本属于哪个簇, 第二列保存该样本跟它所属簇的误差\n",
    "    clusterData = np.array(np.zeros((numSamples, 2)))\n",
    "    # decide whether the values are changed of centroid\n",
    "    clusterChanged = True\n",
    "    \n",
    "    # initialization centroid  func\n",
    "    centroids = initCentroids(data, k)\n",
    "    while clusterChanged:\n",
    "        clusterChanged = False\n",
    "        for i in range(numSamples):\n",
    "            # minimam distance \n",
    "            minDist = 100000.0\n",
    "            # define sample as to cluter\n",
    "            minIndex = 0 \n",
    "            # loop calculate  distance of centroid and sample \n",
    "            for j in range(k):\n",
    "                distance = EucliDistance(centroids[j,:], data[i,:])\n",
    "                # 如果计算距离小于最小距离, 更新最小距离\n",
    "                if distance < minDist:\n",
    "                    minDist = distance \n",
    "                    # update minmum distance \n",
    "                    clusterData[i, 1] = minDist\n",
    "                    # update sample as to which cluster \n",
    "                    minIndex = j \n",
    "            # if  cluster of sample are changed \n",
    "            if clusterData[i, 0] != minIndex:\n",
    "                # recalculate controid \n",
    "                clusterChanged = True \n",
    "                clusterData[i, 0] = minIndex\n",
    "        # update centroid\n",
    "        for j in range(k):\n",
    "        # 获取第J 个簇所有的样本所在的索引\n",
    "            cluster_index = np.nonzero(clusterData[:, 0] == j)\n",
    "        # 第j个簇的所有样本点\n",
    "            pointsInCluster = data[cluster_index]\n",
    "        # caculate centroid \n",
    "            centroids[j, :] = np.mean(pointsInCluster, axis = 0)\n",
    "            \n",
    "            \n",
    "    return centroids, clusterData\n",
    "\n",
    "        \n",
    "# show result     \n",
    "def showCluster(data, k, centroid, clusterData):\n",
    "    numSamples, dim = data.shape\n",
    "    if dim!=2:\n",
    "        print(\"dimension of your data is not 2!\")\n",
    "        return 1\n",
    "    # 用不同颜色绘制类别\n",
    "    mark = [\"or\",\"ob\", \"og\",\"ok\", \"^r\", \"+r\",\"st\",\"dr\",\"<r\",\"pr\"]\n",
    "    if k >len(mark):\n",
    "        print(\"your k is too large\")\n",
    "        return 1 \n",
    "    # drawing sample point \n",
    "    for i in range (numSamples):\n",
    "        markIndex = int(clusterData[i,0])\n",
    "        plt.plot(data[i,0], data[i, 1], mark[markIndex])\n",
    "    # use different color dicribe class  \n",
    "    mark = [\"*r\", \"*b\", \"*g\",\"*k\", \"^b\", \"+b\", \"sb\", \"db\", \"<b\", \"pb\"]\n",
    "    # drawing centroid \n",
    "    for i in range(k):\n",
    "        plt.plot(centroids[i, 0], centroids[i,1], mark[i], markersize = 20)\n",
    "        \n",
    "    plt.show()"
   ]
  },
  {
   "cell_type": "code",
   "execution_count": 24,
   "metadata": {},
   "outputs": [
    {
     "name": "stdout",
     "output_type": "stream",
     "text": [
      "cluster completed\n"
     ]
    },
    {
     "data": {
      "image/png": "[encoded data removed]",
      "text/plain": [
       "<Figure size 432x288 with 1 Axes>"
      ]
     },
     "metadata": {
      "needs_background": "light"
     },
     "output_type": "display_data"
    }
   ],
   "source": [
    "# set k value \n",
    "k = 4 \n",
    "centroids, clusterData = kmeans(data, k)\n",
    "if np.isnan(centroids).any():\n",
    "    print(\"error\")\n",
    "else:\n",
    "    print(\"cluster completed\")\n",
    "showCluster(data, k, centroids, clusterData)"
   ]
  },
  {
   "cell_type": "code",
   "execution_count": 25,
   "metadata": {},
   "outputs": [
    {
     "data": {
      "text/plain": [
       "array([[0.5, 0.4],\n",
       "       [0.5, 0.4],\n",
       "       [0.5, 0.4],\n",
       "       [0.5, 0.4]])"
      ]
     },
     "execution_count": 25,
     "metadata": {},
     "output_type": "execute_result"
    }
   ],
   "source": [
    "# 做预测  \n",
    "\n",
    "x_test = [0.5,0.4]\n",
    "np.tile(x_test, (k,1))"
   ]
  },
  {
   "cell_type": "code",
   "execution_count": 26,
   "metadata": {},
   "outputs": [
    {
     "data": {
      "text/plain": [
       "array([[ 0.19816667,  0.21516667],\n",
       "       [-0.19883333, -0.03133333],\n",
       "       [-0.08272727,  0.10645455],\n",
       "       [ 0.00057143,  0.21214286]])"
      ]
     },
     "execution_count": 26,
     "metadata": {},
     "output_type": "execute_result"
    }
   ],
   "source": [
    "# 误差 error \n",
    "np.tile(x_test, (k,1)) - centroids"
   ]
  },
  {
   "cell_type": "code",
   "execution_count": 27,
   "metadata": {},
   "outputs": [
    {
     "data": {
      "text/plain": [
       "array([[3.92700278e-02, 4.62966944e-02],\n",
       "       [3.95346944e-02, 9.81777778e-04],\n",
       "       [6.84380165e-03, 1.13325702e-02],\n",
       "       [3.26530612e-07, 4.50045918e-02]])"
      ]
     },
     "execution_count": 27,
     "metadata": {},
     "output_type": "execute_result"
    }
   ],
   "source": [
    "# error sqrt \n",
    "(np.tile(x_test,(k, 1))-centroids)**2"
   ]
  },
  {
   "cell_type": "code",
   "execution_count": 30,
   "metadata": {},
   "outputs": [
    {
     "data": {
      "text/plain": [
       "array([0.08556672, 0.04051647, 0.01817637, 0.04500492])"
      ]
     },
     "execution_count": 30,
     "metadata": {},
     "output_type": "execute_result"
    }
   ],
   "source": [
    "# 误差平方和  \n",
    "((np.tile(x_test,(k,1))-centroids)**2).sum(axis=1)"
   ]
  },
  {
   "cell_type": "code",
   "execution_count": 33,
   "metadata": {},
   "outputs": [
    {
     "data": {
      "text/plain": [
       "2"
      ]
     },
     "execution_count": 33,
     "metadata": {},
     "output_type": "execute_result"
    }
   ],
   "source": [
    "# 最小值所在的索引\n",
    "np.argmin(((np.tile(x_test,(k,1))-centroids)**2).sum(axis=1))"
   ]
  },
  {
   "cell_type": "code",
   "execution_count": 34,
   "metadata": {},
   "outputs": [],
   "source": [
    "def predict(datas):\n",
    "    return np.array([np.argmin(((np.tile(data, (k,1))-centroids)**2).sum(axis=1))for data in datas])"
   ]
  },
  {
   "cell_type": "code",
   "execution_count": 40,
   "metadata": {},
   "outputs": [
    {
     "data": {
      "image/png": "[encoded data removed]",
      "text/plain": [
       "<Figure size 432x288 with 1 Axes>"
      ]
     },
     "metadata": {
      "needs_background": "light"
     },
     "output_type": "display_data"
    }
   ],
   "source": [
    "# 画出簇的作用区域\n",
    "x_min, x_max = data[:, 0].min()-1, data[:,0].max()+1\n",
    "y_min, y_max = data[:,1].min()-1, data[:,1].max()+1\n",
    "xx, yy = np.meshgrid(np.arange(x_min, x_max, 0.04),\n",
    "                    np.arange(y_min, y_max, 0.04))\n",
    "z = predict(np.c_[xx.ravel(), yy.ravel()])\n",
    "z = z.reshape(xx.shape)\n",
    "cl = plt.contourf(xx, yy, z)\n",
    "# 显示结果 \n",
    "showCluster(data, k, centroids, clusterData)"
   ]
  },
  {
   "cell_type": "code",
   "execution_count": null,
   "metadata": {},
   "outputs": [],
   "source": []
  }
 ],
 "metadata": {
  "kernelspec": {
   "display_name": "Python 3",
   "language": "python",
   "name": "python3"
  },
  "language_info": {
   "codemirror_mode": {
    "name": "ipython",
    "version": 3
   },
   "file_extension": ".py",
   "mimetype": "text/x-python",
   "name": "python",
   "nbconvert_exporter": "python",
   "pygments_lexer": "ipython3",
   "version": "3.8.5"
  }
 },
 "nbformat": 4,
 "nbformat_minor": 4
}
