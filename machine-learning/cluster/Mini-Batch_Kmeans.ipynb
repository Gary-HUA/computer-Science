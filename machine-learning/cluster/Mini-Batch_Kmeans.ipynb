{
 "cells": [
  {
   "cell_type": "code",
   "execution_count": 2,
   "metadata": {},
   "outputs": [],
   "source": [
    "from sklearn.cluster import MiniBatchKMeans\n",
    "import numpy as np \n",
    "import matplotlib.pyplot as plt\n"
   ]
  },
  {
   "cell_type": "code",
   "execution_count": 6,
   "metadata": {},
   "outputs": [],
   "source": [
    "# read data \n",
    "data = np.genfromtxt(\"kmeans.txt\", delimiter =\" \")\n",
    "k = 3"
   ]
  },
  {
   "cell_type": "code",
   "execution_count": 8,
   "metadata": {},
   "outputs": [
    {
     "data": {
      "text/plain": [
       "MiniBatchKMeans(n_clusters=3)"
      ]
     },
     "execution_count": 8,
     "metadata": {},
     "output_type": "execute_result"
    }
   ],
   "source": [
    "# training model \n",
    "model = MiniBatchKMeans(n_clusters = k)# minibatch kmeans\n",
    "model.fit(data)"
   ]
  },
  {
   "cell_type": "code",
   "execution_count": 9,
   "metadata": {},
   "outputs": [
    {
     "name": "stdout",
     "output_type": "stream",
     "text": [
      "[[0.60396108 0.40452695]\n",
      " [0.65003171 0.16063659]\n",
      " [0.34746739 0.20578804]]\n"
     ]
    }
   ],
   "source": [
    "# classification center point coordirate\n",
    "centers = model.cluster_centers_\n",
    "print(centers)"
   ]
  },
  {
   "cell_type": "code",
   "execution_count": 11,
   "metadata": {},
   "outputs": [
    {
     "name": "stdout",
     "output_type": "stream",
     "text": [
      "[0 2 2 1 1 0 0 2 2 1 0 0 1 2 1 2 0 0 0 1 1 2 0 0 1 2 2 2 0 0]\n"
     ]
    }
   ],
   "source": [
    "# predict result \n",
    "result = model.predict(data)\n",
    "print(result)"
   ]
  },
  {
   "cell_type": "code",
   "execution_count": 13,
   "metadata": {},
   "outputs": [
    {
     "data": {
      "image/png": "[encoded data removed]",
      "text/plain": [
       "<Figure size 432x288 with 1 Axes>"
      ]
     },
     "metadata": {
      "needs_background": "light"
     },
     "output_type": "display_data"
    }
   ],
   "source": [
    "# drawing data point  \n",
    "mark = [\"or\",\"ob\", \"og\"]\n",
    "for i, d in enumerate(data):\n",
    "    plt.plot(d[0], d[1], mark[result[i]])\n",
    "# drawing classification center point \n",
    "mark = [\"*r\",\"*b\",\"*g\"]\n",
    "for i , center in enumerate(centers):\n",
    "    plt.plot(center[0], center[1], mark[i], markersize=20 )\n",
    "plt.show()"
   ]
  },
  {
   "cell_type": "code",
   "execution_count": 18,
   "metadata": {},
   "outputs": [
    {
     "name": "stdout",
     "output_type": "stream",
     "text": [
      "(123, 127)\n",
      "(123, 127)\n"
     ]
    },
    {
     "data": {
      "image/png": "[encoded data removed]",
      "text/plain": [
       "<Figure size 432x288 with 1 Axes>"
      ]
     },
     "metadata": {
      "needs_background": "light"
     },
     "output_type": "display_data"
    }
   ],
   "source": [
    "# 数据范围 \n",
    "x_min, x_max = data[:,0].min()-1, data[:,0].max()+1\n",
    "y_min, y_max = data[:,1].min()-1, data[:,1].max()+1\n",
    "# net \n",
    "xx, yy = np.meshgrid(np.arange(x_min, x_max, 0.02), np.arange(y_min, y_max, 0.02))\n",
    "z = model.predict(np.c_[xx.ravel(), yy.ravel()])\n",
    "z = z.reshape(xx.shape)\n",
    "print(xx.shape)\n",
    "print(z.shape)\n",
    "cl = plt.contourf(xx, yy, z)\n",
    "# drawing data point  \n",
    "mark = [\"or\",\"ob\", \"og\"]\n",
    "for i, d in enumerate(data):\n",
    "    plt.plot(d[0], d[1], mark[result[i]])\n",
    "# drawing classification center point \n",
    "mark = [\"*r\",\"*b\",\"*g\"]\n",
    "for i , center in enumerate(centers):\n",
    "    plt.plot(center[0], center[1], mark[i], markersize=20 )\n",
    "plt.show()"
   ]
  },
  {
   "cell_type": "code",
   "execution_count": null,
   "metadata": {},
   "outputs": [],
   "source": []
  }
 ],
 "metadata": {
  "kernelspec": {
   "display_name": "Python 3",
   "language": "python",
   "name": "python3"
  },
  "language_info": {
   "codemirror_mode": {
    "name": "ipython",
    "version": 3
   },
   "file_extension": ".py",
   "mimetype": "text/x-python",
   "name": "python",
   "nbconvert_exporter": "python",
   "pygments_lexer": "ipython3",
   "version": "3.8.5"
  }
 },
 "nbformat": 4,
 "nbformat_minor": 4
}
