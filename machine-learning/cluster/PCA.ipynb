{
 "cells": [
  {
   "cell_type": "code",
   "execution_count": 1,
   "metadata": {},
   "outputs": [],
   "source": [
    "import numpy as np \n",
    "import matplotlib.pyplot as plt"
   ]
  },
  {
   "cell_type": "code",
   "execution_count": 3,
   "metadata": {},
   "outputs": [
    {
     "name": "stdout",
     "output_type": "stream",
     "text": [
      "[[32.50234527 31.70700585]\n",
      " [53.42680403 68.77759598]\n",
      " [61.53035803 62.5623823 ]]\n"
     ]
    }
   ],
   "source": [
    "# read data \n",
    "data = np.genfromtxt(\"data.csv\", delimiter=\",\")\n",
    "print(data[:3])"
   ]
  },
  {
   "cell_type": "code",
   "execution_count": 6,
   "metadata": {},
   "outputs": [],
   "source": [
    "# 数据中心化\n",
    "def zeroMean(dataMat):\n",
    "    # 按列求平均, 即 各个特征的平均\n",
    "    meanVal = np.mean(dataMat, axis=0)\n",
    "    newData = dataMat - meanVal\n",
    "    return newData, meanVal"
   ]
  },
  {
   "cell_type": "code",
   "execution_count": 5,
   "metadata": {},
   "outputs": [],
   "source": [
    "newData, meanVal = zeroMean(data)\n",
    "# np.cov用于求协方差矩阵, 参数rowvar=0 说明数据一行代表一个样本\n",
    "covMat = np.cov(newData, rowvar=0)"
   ]
  },
  {
   "cell_type": "code",
   "execution_count": 7,
   "metadata": {},
   "outputs": [
    {
     "data": {
      "text/plain": [
       "array([[ 94.99190951, 125.62024804],\n",
       "       [125.62024804, 277.49520751]])"
      ]
     },
     "execution_count": 7,
     "metadata": {},
     "output_type": "execute_result"
    }
   ],
   "source": [
    "covMat"
   ]
  },
  {
   "cell_type": "code",
   "execution_count": 8,
   "metadata": {},
   "outputs": [],
   "source": [
    "# np.linalg.eig求矩阵的特征值和特征向量\n",
    "eigVals, eigVects = np.linalg.eig(np.mat(covMat))"
   ]
  },
  {
   "cell_type": "code",
   "execution_count": 9,
   "metadata": {},
   "outputs": [
    {
     "data": {
      "text/plain": [
       "array([ 30.97826888, 341.50884814])"
      ]
     },
     "execution_count": 9,
     "metadata": {},
     "output_type": "execute_result"
    }
   ],
   "source": [
    "eigVals # feature value "
   ]
  },
  {
   "cell_type": "code",
   "execution_count": 11,
   "metadata": {},
   "outputs": [
    {
     "data": {
      "text/plain": [
       "matrix([[-0.89098665, -0.45402951],\n",
       "        [ 0.45402951, -0.89098665]])"
      ]
     },
     "execution_count": 11,
     "metadata": {},
     "output_type": "execute_result"
    }
   ],
   "source": [
    "eigVects # feature vector"
   ]
  },
  {
   "cell_type": "code",
   "execution_count": 12,
   "metadata": {},
   "outputs": [
    {
     "data": {
      "text/plain": [
       "array([0, 1], dtype=int64)"
      ]
     },
     "execution_count": 12,
     "metadata": {},
     "output_type": "execute_result"
    }
   ],
   "source": [
    "# 对特征值从小到大进行排序\n",
    "eigValIndice = np.argsort(eigVals)\n",
    "eigValIndice"
   ]
  },
  {
   "cell_type": "code",
   "execution_count": 13,
   "metadata": {},
   "outputs": [],
   "source": [
    "top = 1 \n",
    "# 最大的TOP个特征值下标\n",
    "n_eigValIndice = eigValIndice[-1:-(top+1):-1]"
   ]
  },
  {
   "cell_type": "code",
   "execution_count": 14,
   "metadata": {},
   "outputs": [
    {
     "data": {
      "text/plain": [
       "array([1], dtype=int64)"
      ]
     },
     "execution_count": 14,
     "metadata": {},
     "output_type": "execute_result"
    }
   ],
   "source": [
    "n_eigValIndice"
   ]
  },
  {
   "cell_type": "code",
   "execution_count": 15,
   "metadata": {},
   "outputs": [
    {
     "data": {
      "text/plain": [
       "matrix([[-0.45402951],\n",
       "        [-0.89098665]])"
      ]
     },
     "execution_count": 15,
     "metadata": {},
     "output_type": "execute_result"
    }
   ],
   "source": [
    "# 最大的N个特征值对应的特征向量\n",
    "n_eigVect = eigVects[:, n_eigValIndice]\n",
    "n_eigVect"
   ]
  },
  {
   "cell_type": "code",
   "execution_count": 18,
   "metadata": {},
   "outputs": [
    {
     "name": "stdout",
     "output_type": "stream",
     "text": [
      "[[44.02694787]\n",
      " [ 1.49722533]\n",
      " [ 3.35564513]]\n"
     ]
    }
   ],
   "source": [
    "# 低维度特征空间的数据\n",
    "lowDDataMat = newData*n_eigVect\n",
    "print(lowDDataMat[:3])"
   ]
  },
  {
   "cell_type": "code",
   "execution_count": 20,
   "metadata": {},
   "outputs": [
    {
     "name": "stdout",
     "output_type": "stream",
     "text": [
      "[[28.96880808 33.50762783]\n",
      " [48.27855698 71.40104277]\n",
      " [47.43477956 69.74521555]]\n"
     ]
    }
   ],
   "source": [
    "# 利用低维度数据来重构数据 \n",
    "reconMat = (lowDDataMat*n_eigVect.T) + meanVal\n",
    "print(reconMat[:3])"
   ]
  },
  {
   "cell_type": "code",
   "execution_count": 25,
   "metadata": {},
   "outputs": [
    {
     "data": {
      "image/png": "[encoded data removed]",
      "text/plain": [
       "<Figure size 432x288 with 1 Axes>"
      ]
     },
     "metadata": {
      "needs_background": "light"
     },
     "output_type": "display_data"
    }
   ],
   "source": [
    "# read data \n",
    "data = np.genfromtxt(\"data.csv\", delimiter=\",\")\n",
    "x_data = data[:,0]\n",
    "y_data = data[:,1]\n",
    "plt.scatter(x_data, y_data)\n",
    "# plt.show()\n",
    "x_data = np.array(reconMat)[:,0]\n",
    "y_data = np.array(reconMat)[:,1]\n",
    "plt.scatter(x_data, y_data, c=\"r\")\n",
    "plt.show()"
   ]
  },
  {
   "cell_type": "code",
   "execution_count": 23,
   "metadata": {},
   "outputs": [
    {
     "data": {
      "image/png": "[encoded data removed]",
      "text/plain": [
       "<Figure size 432x288 with 1 Axes>"
      ]
     },
     "metadata": {
      "needs_background": "light"
     },
     "output_type": "display_data"
    }
   ],
   "source": [
    "# construct data \n",
    "x_data = np.array(reconMat)[:,0]\n",
    "y_data = np.array(reconMat)[:,1]\n",
    "plt.scatter(x_data, y_data, c=\"r\")\n",
    "plt.show()"
   ]
  },
  {
   "cell_type": "code",
   "execution_count": null,
   "metadata": {},
   "outputs": [],
   "source": []
  }
 ],
 "metadata": {
  "kernelspec": {
   "display_name": "Python 3",
   "language": "python",
   "name": "python3"
  },
  "language_info": {
   "codemirror_mode": {
    "name": "ipython",
    "version": 3
   },
   "file_extension": ".py",
   "mimetype": "text/x-python",
   "name": "python",
   "nbconvert_exporter": "python",
   "pygments_lexer": "ipython3",
   "version": "3.8.5"
  }
 },
 "nbformat": 4,
 "nbformat_minor": 4
}
