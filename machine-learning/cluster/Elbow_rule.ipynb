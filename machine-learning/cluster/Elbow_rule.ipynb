{
 "cells": [
  {
   "cell_type": "code",
   "execution_count": 1,
   "metadata": {},
   "outputs": [],
   "source": [
    "#elbow rule\n",
    "import numpy as np \n",
    "import matplotlib.pyplot as plt"
   ]
  },
  {
   "cell_type": "code",
   "execution_count": 2,
   "metadata": {},
   "outputs": [],
   "source": [
    "# read data \n",
    "data = np.genfromtxt(\"kmeans.txt\", delimiter =\" \")"
   ]
  },
  {
   "cell_type": "code",
   "execution_count": 3,
   "metadata": {},
   "outputs": [],
   "source": [
    "# training model \n",
    "# caculate distance \n",
    "def euclDistance(vector1, vector2):\n",
    "    return np.sqrt(sum(vector2-vector1)**2)\n",
    "# initialization centroid \n",
    "def initCentroids(data, k):\n",
    "    numSamples, dim = data.shape\n",
    "    centroids = np.zeros((k, dim))\n",
    "    for i in range(k):\n",
    "        index = int(np.random.uniform(0, numSamples))\n",
    "        centroids[i, :] = data[index, :]\n",
    "    return centroids\n",
    "\n",
    "# incomming data and k \n",
    "def kmeans(data, k):\n",
    "    numSamples = data.shape[0]\n",
    "    clusterData = np.array(np.zeros((numSamples, 2)))\n",
    "    clusterChanged = True\n",
    "    centroids = initCentroids(data, k)\n",
    "    while clusterChanged:\n",
    "        clusterChanged  = False\n",
    "        for i in range(numSamples):\n",
    "            minDist = 100000.0\n",
    "            minIndex = 0\n",
    "            for j in range(k):\n",
    "                distance = euclDistance(centroids[j, :], data[i, :])\n",
    "                if distance < minDist:\n",
    "                    minDist = distance\n",
    "                    minIndex = j \n",
    "                    clusterData[i,1] = distance \n",
    "            if clusterData[i, 0] != minIndex:\n",
    "                clusterChanged = True \n",
    "                clusterData[i, 0] = minIndex\n",
    "        for j in range (k):\n",
    "            cluster_index = np.nonzero(clusterData[:, 0] ==j)\n",
    "            pointsInCluster = data[cluster_index]\n",
    "            centroids[j, :] = np.mean(pointsInCluster, axis=0)\n",
    "    return centroids, clusterData  \n"
   ]
  },
  {
   "cell_type": "code",
   "execution_count": 4,
   "metadata": {},
   "outputs": [],
   "source": [
    "# show result     \n",
    "def showCluster(data, k, centroid, clusterData):\n",
    "    numSamples, dim = data.shape\n",
    "    if dim!=2:\n",
    "        print(\"dimension of your data is not 2!\")\n",
    "        return 1\n",
    "    # 用不同颜色绘制类别\n",
    "    mark = [\"or\",\"ob\", \"og\",\"ok\", \"^r\", \"+r\",\"st\",\"dr\",\"<r\",\"pr\"]\n",
    "    if k >len(mark):\n",
    "        print(\"your k is too large\")\n",
    "        return 1 \n",
    "    # drawing sample point \n",
    "    for i in range (numSamples):\n",
    "        markIndex = int(clusterData[i,0])\n",
    "        plt.plot(data[i,0], data[i, 1], mark[markIndex])\n",
    "    # use different color dicribe class  \n",
    "    mark = [\"*r\", \"*b\", \"*g\",\"*k\", \"^b\", \"+b\", \"sb\", \"db\", \"<b\", \"pb\"]\n",
    "    # drawing centroid \n",
    "    for i in range(k):\n",
    "        plt.plot(centroids[i, 0], centroids[i,1], mark[i], markersize = 20)\n",
    "        \n",
    "    plt.show()"
   ]
  },
  {
   "cell_type": "code",
   "execution_count": 6,
   "metadata": {},
   "outputs": [
    {
     "name": "stderr",
     "output_type": "stream",
     "text": [
      "C:\\ProgramData\\Anaconda3\\lib\\site-packages\\numpy\\core\\fromnumeric.py:3372: RuntimeWarning: Mean of empty slice.\n",
      "  return _methods._mean(a, axis=axis, dtype=dtype,\n",
      "C:\\ProgramData\\Anaconda3\\lib\\site-packages\\numpy\\core\\_methods.py:162: RuntimeWarning: invalid value encountered in true_divide\n",
      "  ret = um.true_divide(\n"
     ]
    }
   ],
   "source": [
    "# elbow rule\n",
    "list_lost = []\n",
    "for k in range(2, 10):   \n",
    "# k = 4\n",
    "    min_loss = 10000\n",
    "    min_loss_centroid = np.array([])\n",
    "    min_loss_clusterData = np.array([])\n",
    "    for i in range (50):\n",
    "        centroids, clusterData = kmeans(data, k)\n",
    "        loss = sum(clusterData[:, 1])/data.shape[0]\n",
    "        if loss < min_loss: \n",
    "            min_loss = loss \n",
    "            min_loss_centroids = centroids \n",
    "            min_loss_clusterData = clusterData\n",
    "    list_lost.append(min_loss)\n",
    "        \n",
    "# print(\"cluster complete\")\n",
    "# centroids = min_loss_centroids \n",
    "# clusterData = min_loss_clusterData \n",
    "# showCluster(data, k, centroids, clusterData)"
   ]
  },
  {
   "cell_type": "code",
   "execution_count": 7,
   "metadata": {},
   "outputs": [
    {
     "data": {
      "text/plain": [
       "[0.10854162679425837,\n",
       " 0.06658888888888889,\n",
       " 0.04971999999999999,\n",
       " 0.03919333333333333,\n",
       " 0.03089333333333332,\n",
       " 0.02527412698412699,\n",
       " 0.021772222222222228,\n",
       " 0.01962555555555556]"
      ]
     },
     "execution_count": 7,
     "metadata": {},
     "output_type": "execute_result"
    }
   ],
   "source": [
    "list_lost"
   ]
  },
  {
   "cell_type": "code",
   "execution_count": 9,
   "metadata": {},
   "outputs": [
    {
     "data": {
      "image/png": "[encoded data removed]",
      "text/plain": [
       "<Figure size 432x288 with 1 Axes>"
      ]
     },
     "metadata": {
      "needs_background": "light"
     },
     "output_type": "display_data"
    }
   ],
   "source": [
    "plt.plot(range(2,10), list_lost)\n",
    "plt.xlabel(\"k\")\n",
    "plt.ylabel(\"loss\")\n",
    "plt.show()"
   ]
  },
  {
   "cell_type": "code",
   "execution_count": null,
   "metadata": {},
   "outputs": [],
   "source": []
  }
 ],
 "metadata": {
  "kernelspec": {
   "display_name": "Python 3",
   "language": "python",
   "name": "python3"
  },
  "language_info": {
   "codemirror_mode": {
    "name": "ipython",
    "version": 3
   },
   "file_extension": ".py",
   "mimetype": "text/x-python",
   "name": "python",
   "nbconvert_exporter": "python",
   "pygments_lexer": "ipython3",
   "version": "3.8.5"
  }
 },
 "nbformat": 4,
 "nbformat_minor": 4
}
