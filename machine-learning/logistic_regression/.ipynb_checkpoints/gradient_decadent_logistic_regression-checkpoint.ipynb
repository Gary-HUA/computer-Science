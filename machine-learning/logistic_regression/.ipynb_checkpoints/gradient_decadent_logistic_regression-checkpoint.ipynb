{
 "cells": [
  {
   "cell_type": "code",
   "execution_count": 16,
   "metadata": {},
   "outputs": [],
   "source": [
    "import numpy as np \n",
    "from sklearn.metrics import classification_report\n",
    "from sklearn import preprocessing\n",
    "import matplotlib.pyplot as plt\n",
    "# 是否需要标准化\n",
    "scale = False"
   ]
  },
  {
   "cell_type": "code",
   "execution_count": 17,
   "metadata": {},
   "outputs": [
    {
     "name": "stdout",
     "output_type": "stream",
     "text": [
      "[[-0.017612 14.053064  0.      ]\n",
      " [-1.395634  4.662541  1.      ]\n",
      " [-0.752157  6.53862   0.      ]]\n"
     ]
    }
   ],
   "source": [
    "# read data \n",
    "data = np.genfromtxt(\"LR-testSet.csv\", delimiter=\"\")\n",
    "print(data[:3])"
   ]
  },
  {
   "cell_type": "code",
   "execution_count": 18,
   "metadata": {},
   "outputs": [
    {
     "data": {
      "image/png": "[encoded data removed]",
      "text/plain": [
       "<Figure size 432x288 with 1 Axes>"
      ]
     },
     "metadata": {
      "needs_background": "light"
     },
     "output_type": "display_data"
    }
   ],
   "source": [
    "# slice data \n",
    "x_data = data[:,:-1]\n",
    "y_data = data [:,-1]\n",
    "def plot():\n",
    "    x0 = []\n",
    "    y0 = []\n",
    "    x1 = []\n",
    "    y1 = []\n",
    "    # slice different data type 0/1\n",
    "    for i in range(len(x_data)):\n",
    "        if y_data[i] == 0:\n",
    "            x0.append(x_data[i,0])\n",
    "            y0.append(x_data[i,1])\n",
    "        else:\n",
    "            x1.append(x_data[i,0])\n",
    "            y1.append(x_data[i,1])\n",
    "    # drawing  bisection axis\n",
    "    scatter0 = plt.scatter(x0, y0, c=\"b\", marker=\"o\") \n",
    "    scatter1 = plt.scatter(x1, y1, c=\"r\", marker=\"x\")\n",
    "    plt.legend(handles=[scatter0, scatter1], labels=[\"label0\",\"lebel1\"], loc=\"best\") # 画出图例\n",
    "plot()\n",
    "plt.show()"
   ]
  },
  {
   "cell_type": "code",
   "execution_count": 19,
   "metadata": {},
   "outputs": [
    {
     "name": "stdout",
     "output_type": "stream",
     "text": [
      "(100, 2)\n",
      "(100, 1)\n",
      "(100, 3)\n"
     ]
    }
   ],
   "source": [
    "# 处理数据, 添加偏置项\n",
    "x_data = data[:, :-1]\n",
    "y_data = data[:,-1, np.newaxis] # y 值代表的是分类标签0/1, \n",
    "print(np.mat(x_data).shape)\n",
    "print(np.mat(y_data).shape)\n",
    "#  给样本添加偏置项\n",
    "X_data = np.concatenate((np.ones((100,1)), x_data), axis=1)#偏置项就是Bias 得知 y=wx+b 有了b我们可以更好地拟合函数\n",
    "print(X_data.shape)"
   ]
  },
  {
   "cell_type": "code",
   "execution_count": 24,
   "metadata": {},
   "outputs": [],
   "source": [
    "# sigmod function g(x) = 1/1+e**-x \n",
    "def sigmoid(x):\n",
    "    return 1.0/(1+np.exp(-x))\n",
    "# cost function \n",
    "def cost(xMat, yMat, ws):\n",
    "    left = np.multiply(yMat, np.log(sigmoid(xMat*ws)))\n",
    "    right = np.multiply(1-yMat, np.log(1-sigmoid(xMat*ws)))\n",
    "    return np.sum(left + right)/-(len(xMat))\n",
    "# gradient  descent\n",
    "def gradesc(xArr, yArr):\n",
    "    if scale == True:\n",
    "        xArr = preprocessing.scale(xArr)\n",
    "    xMat = np.mat(xArr)\n",
    "    yMat = np.mat(yArr)\n",
    "    lr = 0.001\n",
    "    iteration = 10000\n",
    "    costlist = []\n",
    "    # 计算行列数, 行代表数据总数, 列代表权值个数\n",
    "    m,n = np.shape(xMat)\n",
    "    # initialize weight \n",
    "    ws = np.mat(np.ones((n,1)))\n",
    "    # \n",
    "    for i in range(iteration+1):\n",
    "        h = sigmoid(xMat*ws)\n",
    "        # 计算误差\n",
    "        ws_grad = xMat.T*(h - yMat)/m\n",
    "        ws = ws - lr * ws_grad\n",
    "        \n",
    "        if i%50 ==0:\n",
    "            costlist.append(cost(xMat, yMat, ws))\n",
    "    return ws, costlist"
   ]
  },
  {
   "cell_type": "code",
   "execution_count": 25,
   "metadata": {},
   "outputs": [
    {
     "name": "stdout",
     "output_type": "stream",
     "text": [
      "[[ 2.05836354]\n",
      " [ 0.3510579 ]\n",
      " [-0.36341304]]\n"
     ]
    }
   ],
   "source": [
    "# training models : 得到权值和cost值得变化\n",
    "ws, costlist = gradesc(X_data, y_data)\n",
    "print(ws)"
   ]
  },
  {
   "cell_type": "code",
   "execution_count": 26,
   "metadata": {},
   "outputs": [
    {
     "data": {
      "image/png": "[encoded data removed]",
      "text/plain": [
       "<Figure size 432x288 with 1 Axes>"
      ]
     },
     "metadata": {
      "needs_background": "light"
     },
     "output_type": "display_data"
    }
   ],
   "source": [
    "if scale  == False:\n",
    "     # drawing 决策边界\n",
    "    plot()\n",
    "    x_test = [[-4],[3]]\n",
    "    y_test = (-ws[0] - x_test * ws[1])/ws[2]\n",
    "    plt.plot(x_test, y_test,\"k\")\n",
    "    plt.show()"
   ]
  },
  {
   "cell_type": "code",
   "execution_count": null,
   "metadata": {},
   "outputs": [],
   "source": []
  },
  {
   "cell_type": "code",
   "execution_count": null,
   "metadata": {},
   "outputs": [],
   "source": []
  }
 ],
 "metadata": {
  "kernelspec": {
   "display_name": "Python 3",
   "language": "python",
   "name": "python3"
  },
  "language_info": {
   "codemirror_mode": {
    "name": "ipython",
    "version": 3
   },
   "file_extension": ".py",
   "mimetype": "text/x-python",
   "name": "python",
   "nbconvert_exporter": "python",
   "pygments_lexer": "ipython3",
   "version": "3.8.3"
  }
 },
 "nbformat": 4,
 "nbformat_minor": 4
}
