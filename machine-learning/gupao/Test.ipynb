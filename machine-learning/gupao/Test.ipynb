{
 "cells": [
  {
   "cell_type": "code",
   "execution_count": 2,
   "id": "1fe18d35",
   "metadata": {},
   "outputs": [],
   "source": [
    "import torch.nn.functional as f\n",
    "import torch\n",
    "import numpy as np\n",
    "import struct\n",
    "import matplotlib.pyplot as plt\n",
    "from torch import nn\n",
    "from torch.utils.data import TensorDataset\n",
    "from torch.utils.data import DataLoader\n",
    "from torch import optim"
   ]
  },
  {
   "cell_type": "code",
   "execution_count": 5,
   "id": "b1865847",
   "metadata": {},
   "outputs": [
    {
     "name": "stdout",
     "output_type": "stream",
     "text": [
      "<class 'str'>\n",
      "F:\\DL\\Mnist_data\\train-images.idx3-ubyte\n"
     ]
    }
   ],
   "source": [
    "# loading data : dir \n",
    "filename_train_images = 'F:\\DL\\Mnist_data\\\\train-images.idx3-ubyte'\n",
    "filename_train_labels = 'F:\\DL\\Mnist_data\\\\train-labels.idx1-ubyte'\n",
    "filename_test_images = 'F:\\DL\\Mnist_data\\\\t10k-images.idx3-ubyte'\n",
    "filename_test_labels = 'F:\\DL\\Mnist_data\\\\t10k-labels.idx1-ubyte'\n",
    "print(type(filename_train_images))\n",
    "print(filename_train_images)  # filename only direction of file"
   ]
  },
  {
   "cell_type": "code",
   "execution_count": 10,
   "id": "48090c22",
   "metadata": {},
   "outputs": [],
   "source": [
    "#  read images from file_name\n",
    "def load_images(file_name):\n",
    "    binfile = open(file_name, \"rb\")  # <_io.BufferedReader name='F:\\\\DL\\\\Mnist_data\\\\train-images.idx3-ubyte'>\n",
    "    buffers = binfile.read()  # readed binary data.\n",
    "    magic, num, rows, cols = struct.unpack_from(\">iiii\", buffers, 0)\n",
    "    bits = num * rows * cols\n",
    "    images = struct.unpack_from(\">\" + str(bits) + \"B\", buffers, struct.calcsize(\">iiii\"))\n",
    "    binfile.close()\n",
    "    images = np.reshape(images, [num, rows * cols])\n",
    "    return images"
   ]
  },
  {
   "cell_type": "code",
   "execution_count": 17,
   "id": "9f073d54",
   "metadata": {},
   "outputs": [
    {
     "name": "stdout",
     "output_type": "stream",
     "text": [
      "<_io.BufferedReader name='F:\\\\DL\\\\Mnist_data\\\\train-images.idx3-ubyte'>\n",
      "(60000, 784)\n"
     ]
    },
    {
     "data": {
      "text/plain": [
       "<matplotlib.image.AxesImage at 0x157bc485eb0>"
      ]
     },
     "execution_count": 17,
     "metadata": {},
     "output_type": "execute_result"
    },
    {
     "data": {
      "image/png": "[encoded data removed]",
      "text/plain": [
       "<Figure size 432x288 with 1 Axes>"
      ]
     },
     "metadata": {
      "needs_background": "light"
     },
     "output_type": "display_data"
    }
   ],
   "source": [
    "# load_iamges testing:\n",
    "x_train = load_images(filename_train_images)\n",
    "print(x_train.shape)  # images.shape is (60000,784)  60000 samples, 784 =  28*28 \n",
    "# imshow images[0]\n",
    "plt.imshow(x_train[0].reshape((28, 28)), cmap=\"gray\")"
   ]
  },
  {
   "cell_type": "code",
   "execution_count": 31,
   "id": "f82fbfd2",
   "metadata": {},
   "outputs": [],
   "source": [
    "# read labels \n",
    "def load_labels(file_name):\n",
    "    binfile = open(file_name, 'rb')\n",
    "    buffers = binfile.read()\n",
    "    magic,num = struct.unpack_from('>II', buffers, 0)\n",
    "    print(magic,num)  # 2049 60000\n",
    "    labels = struct.unpack_from('>' + str(num) + \"B\", buffers, struct.calcsize('>II'))  # build labels to 1d array.\n",
    "    binfile.close()\n",
    "    # labels = np.reshape(labels, [num])\n",
    "    labels = np.reshape(labels,num)\n",
    "    return labels"
   ]
  },
  {
   "cell_type": "code",
   "execution_count": 35,
   "id": "1396a58b",
   "metadata": {},
   "outputs": [
    {
     "name": "stdout",
     "output_type": "stream",
     "text": [
      "2049 60000\n",
      "y_train data: (60000,)\n",
      "5\n",
      "0\n",
      "4\n",
      "1\n",
      "9\n"
     ]
    }
   ],
   "source": [
    "# read labels testing:\n",
    "y_train = load_labels(filename_train_labels)\n",
    "print(\"y_train data:\", y_train.shape)\n",
    "for i in range(5):\n",
    "    print(y_train[i])"
   ]
  },
  {
   "cell_type": "code",
   "execution_count": 43,
   "id": "21c10d0c",
   "metadata": {},
   "outputs": [
    {
     "name": "stdout",
     "output_type": "stream",
     "text": [
      "<_io.BufferedReader name='F:\\\\DL\\\\Mnist_data\\\\t10k-images.idx3-ubyte'>\n",
      "2049 10000\n",
      "(10000, 784) (10000,)\n",
      "<class 'numpy.ndarray'>\n"
     ]
    }
   ],
   "source": [
    "x_valid = load_images(filename_test_images)\n",
    "y_valid = load_labels(filename_test_labels) \n",
    "print(x_valid.shape, y_valid.shape)\n",
    "print(type(x_valid))"
   ]
  },
  {
   "cell_type": "code",
   "execution_count": 45,
   "id": "45211049",
   "metadata": {},
   "outputs": [],
   "source": [
    "# conver numpy to tensor \n",
    "x_train, y_train,  x_valid, y_valid = map(torch.tensor,(x_train, y_train, x_valid, y_valid))"
   ]
  },
  {
   "cell_type": "code",
   "execution_count": 50,
   "id": "fb143a61",
   "metadata": {},
   "outputs": [
    {
     "name": "stdout",
     "output_type": "stream",
     "text": [
      "<class 'torch.Tensor'>\n"
     ]
    },
    {
     "data": {
      "text/plain": [
       "<matplotlib.image.AxesImage at 0x15781f80730>"
      ]
     },
     "execution_count": 50,
     "metadata": {},
     "output_type": "execute_result"
    },
    {
     "data": {
      "image/png": "[encoded data removed]",
      "text/plain": [
       "<Figure size 432x288 with 1 Axes>"
      ]
     },
     "metadata": {
      "needs_background": "light"
     },
     "output_type": "display_data"
    }
   ],
   "source": [
    "# test tensor data \n",
    "print(type(x_train))\n",
    "plt.imshow(x_train[0].reshape(28,28),cmap=\"gray\")"
   ]
  },
  {
   "cell_type": "code",
   "execution_count": 58,
   "id": "e71ef67f",
   "metadata": {},
   "outputs": [
    {
     "name": "stdout",
     "output_type": "stream",
     "text": [
      "<function cross_entropy at 0x00000157B92B2DC0>\n"
     ]
    }
   ],
   "source": [
    "#torch.nn.functional function     \"\"\"需要学习的函数,在神经网络中关于不需要学习的参数会相对简单一些\"\"\"\n",
    "loss_func = f.cross_entropy  # 交叉熵损失函数.进行概率处理\n",
    "print(loss_func)\n",
    "def model(x):\n",
    "    return x.mm(weights)+bias"
   ]
  },
  {
   "cell_type": "code",
   "execution_count": 76,
   "id": "5197478c",
   "metadata": {},
   "outputs": [
    {
     "name": "stdout",
     "output_type": "stream",
     "text": [
      "tensor([[0, 0, 0,  ..., 0, 0, 0],\n",
      "        [0, 0, 0,  ..., 0, 0, 0],\n",
      "        [0, 0, 0,  ..., 0, 0, 0],\n",
      "        ...,\n",
      "        [0, 0, 0,  ..., 0, 0, 0],\n",
      "        [0, 0, 0,  ..., 0, 0, 0],\n",
      "        [0, 0, 0,  ..., 0, 0, 0]], dtype=torch.int32)\n"
     ]
    },
    {
     "ename": "RuntimeError",
     "evalue": "expected scalar type Int but found Float",
     "output_type": "error",
     "traceback": [
      "\u001b[1;31m---------------------------------------------------------------------------\u001b[0m",
      "\u001b[1;31mRuntimeError\u001b[0m                              Traceback (most recent call last)",
      "Input \u001b[1;32mIn [76]\u001b[0m, in \u001b[0;36m<cell line: 7>\u001b[1;34m()\u001b[0m\n\u001b[0;32m      5\u001b[0m weights \u001b[38;5;241m=\u001b[39m torch\u001b[38;5;241m.\u001b[39mrandn([\u001b[38;5;241m784\u001b[39m,\u001b[38;5;241m10\u001b[39m], dtype\u001b[38;5;241m=\u001b[39mtorch\u001b[38;5;241m.\u001b[39mfloat, requires_grad\u001b[38;5;241m=\u001b[39m\u001b[38;5;28;01mTrue\u001b[39;00m)\n\u001b[0;32m      6\u001b[0m bias \u001b[38;5;241m=\u001b[39m torch\u001b[38;5;241m.\u001b[39mzeros(\u001b[38;5;241m10\u001b[39m,requires_grad\u001b[38;5;241m=\u001b[39m\u001b[38;5;28;01mTrue\u001b[39;00m)\n\u001b[1;32m----> 7\u001b[0m \u001b[38;5;28mprint\u001b[39m(loss_func(\u001b[43mmodel\u001b[49m\u001b[43m(\u001b[49m\u001b[43mx\u001b[49m\u001b[43m)\u001b[49m,y))\n",
      "Input \u001b[1;32mIn [58]\u001b[0m, in \u001b[0;36mmodel\u001b[1;34m(x)\u001b[0m\n\u001b[0;32m      4\u001b[0m \u001b[38;5;28;01mdef\u001b[39;00m \u001b[38;5;21mmodel\u001b[39m(x):\n\u001b[1;32m----> 5\u001b[0m     \u001b[38;5;28;01mreturn\u001b[39;00m \u001b[43mx\u001b[49m\u001b[38;5;241;43m.\u001b[39;49m\u001b[43mmm\u001b[49m\u001b[43m(\u001b[49m\u001b[43mweights\u001b[49m\u001b[43m)\u001b[49m\u001b[38;5;241m+\u001b[39mbias\n",
      "\u001b[1;31mRuntimeError\u001b[0m: expected scalar type Int but found Float"
     ]
    }
   ],
   "source": [
    "bs=64\n",
    "x = x_train[0:bs]\n",
    "print(x)\n",
    "y = y_train[0:bs]\n",
    "weights = torch.randn([784,10], dtype=torch.float, requires_grad=True)\n",
    "bias = torch.zeros(10,requires_grad=True)\n",
    "print(loss_func(model(x),y))"
   ]
  }
 ],
 "metadata": {
  "kernelspec": {
   "display_name": "Python 3 (ipykernel)",
   "language": "python",
   "name": "python3"
  },
  "language_info": {
   "codemirror_mode": {
    "name": "ipython",
    "version": 3
   },
   "file_extension": ".py",
   "mimetype": "text/x-python",
   "name": "python",
   "nbconvert_exporter": "python",
   "pygments_lexer": "ipython3",
   "version": "3.9.7"
  }
 },
 "nbformat": 4,
 "nbformat_minor": 5
}
