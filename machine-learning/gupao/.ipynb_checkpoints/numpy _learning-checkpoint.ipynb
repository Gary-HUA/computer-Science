{
 "cells": [
  {
   "cell_type": "code",
   "execution_count": 1,
   "id": "0bc17c41",
   "metadata": {},
   "outputs": [],
   "source": [
    "import numpy as np "
   ]
  },
  {
   "cell_type": "code",
   "execution_count": 58,
   "id": "a4d313e2",
   "metadata": {},
   "outputs": [],
   "source": [
    "# ndarray 数组的基本操作, 1. 数组和list 相比, 必须是相同的数据类型. 否则自动向下转换 \n",
    "# # 索引和切片\n",
    "# 输出打印设置 \n",
    "# out = np.random.rand(3,3)\n",
    "#np.set_printoptions(precision=2)\n",
    "#print(out)"
   ]
  },
  {
   "cell_type": "code",
   "execution_count": 42,
   "id": "efc79857",
   "metadata": {},
   "outputs": [
    {
     "name": "stdout",
     "output_type": "stream",
     "text": [
      "[1, 2, 3, 4, 5]\n"
     ]
    },
    {
     "name": "stderr",
     "output_type": "stream",
     "text": [
      "C:\\Users\\Administrator\\AppData\\Local\\Temp\\ipykernel_6208\\3944229728.py:5: DeprecationWarning: `np.object` is a deprecated alias for the builtin `object`. To silence this warning, use `object` by itself. Doing this will not modify any behavior and is safe. \n",
      "Deprecated in NumPy 1.20; for more details and guidance: https://numpy.org/devdocs/release/1.20.0-notes.html#deprecations\n",
      "  array3 = np.array([1,2,3.5,4, \"str\"], dtype = np.object)\n"
     ]
    },
    {
     "data": {
      "text/plain": [
       "array([2, 4, 7.0, 8, 'strstr'], dtype=object)"
      ]
     },
     "execution_count": 42,
     "metadata": {},
     "output_type": "execute_result"
    }
   ],
   "source": [
    "array1 = [1,2,3,4,5]  # list \n",
    "print(array1)\n",
    "# 指定数组类型\n",
    "array2 = np.array([2,3,5,6], dtype = float)  #array([2., 3., 5., 6.]) \n",
    "array3 = np.array([1,2,3.5,4, \"str\"], dtype = np.object)\n",
    "array3 *2  # array([2, 4, 7.0, 8, 'strstr'], dtype=object)"
   ]
  },
  {
   "cell_type": "code",
   "execution_count": 11,
   "id": "e2de1c86",
   "metadata": {},
   "outputs": [
    {
     "name": "stdout",
     "output_type": "stream",
     "text": [
      "<class 'numpy.ndarray'>\n",
      "[2 3 4 5 6]\n",
      "[ 2  4  6  8 10]\n"
     ]
    }
   ],
   "source": [
    "array = np.array(array1)\n",
    "print(type(array))  # numpy.ndarray  nd_array 操作对每一个元素进行操作或者对应位置的操作.\n",
    "array_add = array + 1\n",
    "print(array_add) # [2 3 4 5 6]\n",
    "array_op = array + array1\n",
    "print(array_op) # ndarray 两个矩阵对应位置的操作"
   ]
  },
  {
   "cell_type": "code",
   "execution_count": 20,
   "id": "90bbf6bc",
   "metadata": {},
   "outputs": [
    {
     "name": "stdout",
     "output_type": "stream",
     "text": [
      "4\n"
     ]
    },
    {
     "data": {
      "text/plain": [
       "1"
      ]
     },
     "execution_count": 20,
     "metadata": {},
     "output_type": "execute_result"
    }
   ],
   "source": [
    "# ndarrya 里边必须是相同类型的, 否则自动向下转换类型.\n",
    "array.dtype  # dtype('int32')\n",
    "print(array.itemsize) # 占用几个字节.\n",
    "array.shape  # (5,) 带有D\n",
    "# array.size  # 5  只知道有几个元素\n",
    "np.ndim(array)  #  1  Dimension scale \n",
    "# array.fill(x) # 对数组进行填充."
   ]
  },
  {
   "cell_type": "code",
   "execution_count": 25,
   "id": "036a7a37",
   "metadata": {},
   "outputs": [
    {
     "name": "stdout",
     "output_type": "stream",
     "text": [
      "[ 2  4  6  8 10]\n"
     ]
    },
    {
     "data": {
      "text/plain": [
       "array([ 8, 10])"
      ]
     },
     "execution_count": 25,
     "metadata": {},
     "output_type": "execute_result"
    }
   ],
   "source": [
    "# 索引和切片\n",
    "print(array_op)\n",
    "array_op[1:3]  # array([4, 6])\n",
    "array_op[-2:]   # array([ 8, 10])"
   ]
  },
  {
   "cell_type": "markdown",
   "id": "db99a6b3",
   "metadata": {},
   "source": [
    "矩阵多维()\n"
   ]
  },
  {
   "cell_type": "code",
   "execution_count": 36,
   "id": "6b1002e2",
   "metadata": {},
   "outputs": [
    {
     "name": "stdout",
     "output_type": "stream",
     "text": [
      "[[1 2 3]\n",
      " [4 5 6]\n",
      " [7 8 9]]\n",
      "(3, 3)\n",
      "2\n",
      "int32\n",
      "5\n",
      "[[ 1  2  3]\n",
      " [ 4 10  6]\n",
      " [ 7  8  9]]\n"
     ]
    },
    {
     "data": {
      "text/plain": [
       "array([ 2, 10,  8])"
      ]
     },
     "execution_count": 36,
     "metadata": {},
     "output_type": "execute_result"
    }
   ],
   "source": [
    "array_d = np.array([[1,2,3], [4,5,6], [7,8,9]])\n",
    "print(array_d)\n",
    "print(array_d.shape) # (3, 3)\n",
    "print(array_d.ndim)  # 2\n",
    "print(array_d.dtype) # int32 \n",
    "# 索引multi-D 矩阵\n",
    "print(array_d[1,1])  # 5\n",
    "array_d[1,1] = 10  # update value.\n",
    "print(array_d)  # [[ 1  2  3][ 4 10  6][ 7  8  9]]\n",
    "array_d[:, 1]  # array([ 2, 10,  8])"
   ]
  },
  {
   "cell_type": "code",
   "execution_count": 37,
   "id": "ffb02eb4",
   "metadata": {},
   "outputs": [
    {
     "name": "stdout",
     "output_type": "stream",
     "text": [
      "[ 1 11 21 31 41 51 61 71 81 91]\n"
     ]
    }
   ],
   "source": [
    "#等差数据  \n",
    "array = np.arange(1,100,10)\n",
    "print(array)  # [ 1 11 21 31 41 51 61 71 81 91]"
   ]
  },
  {
   "cell_type": "code",
   "execution_count": 3,
   "id": "05f37fbd",
   "metadata": {},
   "outputs": [
    {
     "name": "stdout",
     "output_type": "stream",
     "text": [
      "[[1 2 3]\n",
      " [4 5 6]]\n",
      "21\n",
      "2\n",
      "[5 7 9]\n",
      "21\n",
      "[ 6 15]\n"
     ]
    }
   ],
   "source": [
    "# numpy array 数据计算\n",
    "array = np.array([[1,2,3],[4,5,6]])\n",
    "print(array)\n",
    "print(np.sum(array))  # 21  all of data \n",
    "print(array.ndim)  # 2 \n",
    "print(np.sum(array, axis=0))  # [5 7 9]  axis 0 is y-axis  1 si x_axis. ndim is 2, so axis is 0/1 (-1) only.\n",
    "print(array.sum())\n",
    "print(array.sum(axis=-1))"
   ]
  },
  {
   "cell_type": "code",
   "execution_count": 4,
   "id": "1d45efa8",
   "metadata": {},
   "outputs": [
    {
     "name": "stdout",
     "output_type": "stream",
     "text": [
      "1\n",
      "5\n",
      "3.5\n",
      "[2.5 3.5 4.5]\n",
      "1.707825127659933\n",
      "2.9166666666666665\n"
     ]
    }
   ],
   "source": [
    "#  multiply \n",
    "array.prod()  # 1*2*3*4*5*6 = 72\n",
    "array.prod(axis=0) \n",
    "print(array.min())# max  and axis.\n",
    "# max index \n",
    "print(array.argmax()) \n",
    "print(array.mean())\n",
    "print(array.mean(axis=0))\n",
    "# 标准差\n",
    "print(array.std())  # axis\n",
    "# 方差\n",
    "print(array.var())"
   ]
  },
  {
   "cell_type": "code",
   "execution_count": 12,
   "id": "5c51b09d",
   "metadata": {},
   "outputs": [
    {
     "name": "stdout",
     "output_type": "stream",
     "text": [
      "[[3.581 1.2   5.    6.   ]\n",
      " [2.2   1.3   0.5   9.   ]]\n"
     ]
    },
    {
     "data": {
      "text/plain": [
       "array([[3.6, 1.2, 5. , 6. ],\n",
       "       [2.2, 1.3, 0.5, 9. ]])"
      ]
     },
     "execution_count": 12,
     "metadata": {},
     "output_type": "execute_result"
    }
   ],
   "source": [
    "# 对数据进行limitation\n",
    "array.clip(3,5)  # <=3 =3, >=5=5\n",
    "# 数据的近似, 四舍五入\n",
    "array_approximate = np.array([[3.581,1.2,5,6],[2.2,1.3,0.5,9]])\n",
    "print(array_approximate)\n",
    "array_approximate.round()\n",
    "# appoint procision \n",
    "array_approximate.round(decimals=1) # where procision \n"
   ]
  },
  {
   "cell_type": "code",
   "execution_count": 31,
   "id": "ce64ff4d",
   "metadata": {},
   "outputs": [
    {
     "name": "stdout",
     "output_type": "stream",
     "text": [
      "[[1.2   3.581 5.    6.   ]\n",
      " [0.5   1.3   2.2   9.   ]]\n",
      "[ 0.          1.42857143  2.85714286  4.28571429  5.71428571  7.14285714\n",
      "  8.57142857 10.        ]\n"
     ]
    },
    {
     "data": {
      "text/plain": [
       "array([4, 2, 3], dtype=int64)"
      ]
     },
     "execution_count": 31,
     "metadata": {},
     "output_type": "execute_result"
    }
   ],
   "source": [
    "# order operation ;\n",
    "print(array_approximate)\n",
    "array_approximate = np.sort(array_approximate, axis =-1)# pands ordered is better.\n",
    "np.argsort(array_approximate)  # ordered index.\n",
    "# display inserted index in a nparray.\n",
    "array_beinsert = np.linspace(0,10,8)\n",
    "print(array_beinsert)\n",
    "value = np.array([5,2,3])\n",
    "np.searchsorted(array_beinsert, value)"
   ]
  },
  {
   "cell_type": "code",
   "execution_count": null,
   "id": "df3d9d7d",
   "metadata": {},
   "outputs": [],
   "source": [
    "# 有一个方法可以根据某一列数据进行排序,其他列跟随变动"
   ]
  },
  {
   "cell_type": "code",
   "execution_count": 38,
   "id": "eaca2fb3",
   "metadata": {},
   "outputs": [
    {
     "name": "stdout",
     "output_type": "stream",
     "text": [
      "[0 1 2 3 4 5 6 7 8 9]\n",
      "[[0 1 2 3 4]\n",
      " [5 6 7 8 9]]\n",
      "[[0 1 2 3 4 5 6 7 8 9]]\n"
     ]
    }
   ],
   "source": [
    "# 数组形状的操作:\n",
    "array = np.arange(10)\n",
    "print(array)\n",
    "array.shape \n",
    "array.shape = 2,5  # initial nparray dimesion \n",
    "print(array)\n",
    "# array.shape= 3,3  #  need to condiser array nums\n",
    "# print(array)\n",
    "print(array.reshape(1,10))"
   ]
  },
  {
   "cell_type": "code",
   "execution_count": 71,
   "id": "49a3b99c",
   "metadata": {},
   "outputs": [
    {
     "name": "stdout",
     "output_type": "stream",
     "text": [
      "(10,)\n",
      "[0 1 2 3 4 5 6 7 8 9]\n"
     ]
    }
   ],
   "source": [
    "array_addD = np.arange(10)\n",
    "print(array_addD.shape)\n",
    "print(array_addD)"
   ]
  },
  {
   "cell_type": "code",
   "execution_count": 73,
   "id": "3a2adbe9",
   "metadata": {},
   "outputs": [
    {
     "name": "stdout",
     "output_type": "stream",
     "text": [
      "[[0]\n",
      " [1]\n",
      " [2]\n",
      " [3]\n",
      " [4]\n",
      " [5]\n",
      " [6]\n",
      " [7]\n",
      " [8]\n",
      " [9]]\n",
      "(10, 1)\n",
      "second: (10, 1, 1)\n",
      "[[[0]]\n",
      "\n",
      " [[1]]\n",
      "\n",
      " [[2]]\n",
      "\n",
      " [[3]]\n",
      "\n",
      " [[4]]\n",
      "\n",
      " [[5]]\n",
      "\n",
      " [[6]]\n",
      "\n",
      " [[7]]\n",
      "\n",
      " [[8]]\n",
      "\n",
      " [[9]]]\n"
     ]
    },
    {
     "data": {
      "text/plain": [
       "array([0, 1, 2, 3, 4, 5, 6, 7, 8, 9])"
      ]
     },
     "execution_count": 73,
     "metadata": {},
     "output_type": "execute_result"
    }
   ],
   "source": [
    "# array_addD = array_addD[np.newaxis,:]  # add a new dimension of data array.\n",
    "print(array_addD)\n",
    "print(array_addD.shape)\n",
    "array_addD = array_addD[:, np.newaxis]\n",
    "print(\"second:\", array_addD.shape)\n",
    "print(array_addD)\n",
    "#remove dimension \n",
    "array_addD.squeeze()  #原来加入了空的轴，压缩去掉了空的维度"
   ]
  },
  {
   "cell_type": "code",
   "execution_count": 89,
   "id": "989ef796",
   "metadata": {},
   "outputs": [
    {
     "name": "stdout",
     "output_type": "stream",
     "text": [
      "[[ 1  2  3  4  5]\n",
      " [ 6  7  8  9 10]]\n",
      "[[ 1  6]\n",
      " [ 2  7]\n",
      " [ 3  8]\n",
      " [ 4  9]\n",
      " [ 5 10]]\n",
      "[[ 1  2  3  4  5]\n",
      " [ 6  7  8  9 10]]\n"
     ]
    }
   ],
   "source": [
    "#  转置:  就是原来是2,5  to 5,2\n",
    "array = np.array([1,2,3,4,5,6,7,8,9,10])\n",
    "array = array.reshape(2,5)\n",
    "print(array)\n",
    "print(array.T) # array.transpose() \n",
    "print(array)"
   ]
  },
  {
   "cell_type": "code",
   "execution_count": 100,
   "id": "9f241e2d",
   "metadata": {},
   "outputs": [
    {
     "name": "stdout",
     "output_type": "stream",
     "text": [
      "[[1 2 3]\n",
      " [4 5 6]\n",
      " [7 8 9]]\n",
      "[[9 8 7]\n",
      " [6 5 4]\n",
      " [3 2 1]]\n",
      "[[1 2 3 9 8 7]\n",
      " [4 5 6 6 5 4]\n",
      " [7 8 9 3 2 1]]\n"
     ]
    }
   ],
   "source": [
    "# 数组的拼接:\n",
    "array_a = np.array([[1,2,3],[4,5,6],[7,8,9]])\n",
    "print(array_a)\n",
    "array_b = np.array([[9,8,7],[6,5,4],[3,2,1]])\n",
    "print(array_b) \n",
    "# connceting a and b \n",
    "# c = np.concatenate((array_a,array_b)) # attention ()\n",
    "c = np.concatenate((array_a, array_b), axis = 1)\n",
    "# np.vstack((a,b)) np.hstack((a,b)) # 相当于 axis 的值为0/1\n",
    "print(c)"
   ]
  },
  {
   "cell_type": "code",
   "execution_count": 103,
   "id": "1c6bbb1c",
   "metadata": {},
   "outputs": [
    {
     "name": "stdout",
     "output_type": "stream",
     "text": [
      "[[1 2 3]\n",
      " [4 5 6]\n",
      " [7 8 9]]\n",
      "[1 2 3 4 5 6 7 8 9]\n"
     ]
    }
   ],
   "source": [
    "# 多维数组的拉平 \n",
    "print(array_a) \n",
    "print(array_a.flatten())"
   ]
  },
  {
   "cell_type": "code",
   "execution_count": 116,
   "id": "b0313327",
   "metadata": {},
   "outputs": [
    {
     "name": "stdout",
     "output_type": "stream",
     "text": [
      "[1. 3. 5. 7. 9.]\n"
     ]
    },
    {
     "data": {
      "text/plain": [
       "array([ 1., 10.])"
      ]
     },
     "execution_count": 116,
     "metadata": {},
     "output_type": "execute_result"
    }
   ],
   "source": [
    "# 数组的fast生成func:\n",
    "out = np.arange(1,10,2, dtype=np.float32)\n",
    "print(out)\n",
    "np.linspace(0,20,10, dtype = np.int32)\n",
    "np.logspace(0,1,2) # 默认以10为底"
   ]
  },
  {
   "cell_type": "code",
   "execution_count": 123,
   "id": "017787d7",
   "metadata": {},
   "outputs": [
    {
     "name": "stdout",
     "output_type": "stream",
     "text": [
      "[-10.  -5.   0.   5.  10.]\n",
      "[-5.  0.  5. 10. 15.]\n",
      "x.meshgrid: [[-10.  -5.   0.   5.  10.]\n",
      " [-10.  -5.   0.   5.  10.]\n",
      " [-10.  -5.   0.   5.  10.]\n",
      " [-10.  -5.   0.   5.  10.]\n",
      " [-10.  -5.   0.   5.  10.]]\n",
      "y.meshgrid: [[-5. -5. -5. -5. -5.]\n",
      " [ 0.  0.  0.  0.  0.]\n",
      " [ 5.  5.  5.  5.  5.]\n",
      " [10. 10. 10. 10. 10.]\n",
      " [15. 15. 15. 15. 15.]]\n"
     ]
    }
   ],
   "source": [
    "# 通过两个1D 的数组, 构建一个立体的矩阵融合数组\n",
    "x = np.linspace(-10,10,5)\n",
    "y = np.linspace(-5,15,5)\n",
    "print(x)\n",
    "print(y)\n",
    "x,y = np.meshgrid(x,y)\n",
    "print(\"x.meshgrid:\",x)\n",
    "print(\"y.meshgrid:\",y) "
   ]
  },
  {
   "cell_type": "code",
   "execution_count": 129,
   "id": "c61b8414",
   "metadata": {},
   "outputs": [
    {
     "data": {
      "text/plain": [
       "array([[0],\n",
       "       [2],\n",
       "       [4],\n",
       "       [6],\n",
       "       [8]])"
      ]
     },
     "execution_count": 129,
     "metadata": {},
     "output_type": "execute_result"
    }
   ],
   "source": [
    "# build rows, cols. vector \n",
    "np.r_[0:10:2]\n",
    "np.c_[0:10:2]"
   ]
  },
  {
   "cell_type": "code",
   "execution_count": 16,
   "id": "12c95f6f",
   "metadata": {},
   "outputs": [
    {
     "name": "stdout",
     "output_type": "stream",
     "text": [
      "[1. 1. 1. 1. 1.]\n"
     ]
    },
    {
     "data": {
      "text/plain": [
       "array([[1., 0., 0., 0., 0.],\n",
       "       [0., 1., 0., 0., 0.],\n",
       "       [0., 0., 1., 0., 0.],\n",
       "       [0., 0., 0., 1., 0.],\n",
       "       [0., 0., 0., 0., 1.]])"
      ]
     },
     "execution_count": 16,
     "metadata": {},
     "output_type": "execute_result"
    }
   ],
   "source": [
    "#  build a vector of zeros , or ones \n",
    "np.zeros(3, dtype=np.int32)\n",
    "np.ones(3)\n",
    "np.zeros([3,3])\n",
    "a = np.empty(5)\n",
    "a.fill(1)\n",
    "print(a)\n",
    "np.zeros_like(a)  # copy D \n",
    "# construct a unit matrix \n",
    "np.identity(5)"
   ]
  },
  {
   "cell_type": "code",
   "execution_count": 53,
   "id": "dd57a600",
   "metadata": {},
   "outputs": [
    {
     "name": "stdout",
     "output_type": "stream",
     "text": [
      "[0 2 4 6 8]\n",
      "[ 0  4  8 12 16]\n",
      "[  0   8  32  72 128]\n",
      "(5,)\n",
      "(5,)\n"
     ]
    },
    {
     "data": {
      "text/plain": [
       "240"
      ]
     },
     "execution_count": 53,
     "metadata": {},
     "output_type": "execute_result"
    }
   ],
   "source": [
    "# numpy 四则运算  维度相同\n",
    "a = np.arange(0,10,2)\n",
    "print(a)\n",
    "b = np.arange(0,20,4)\n",
    "print(b)\n",
    "# 对应位置乘积\n",
    "a_b= np.multiply(a,b)\n",
    "print(a_b)\n",
    "# 内积  对应位置相乘, then elements 相加\n",
    "np.dot(a,b)\n",
    "#a = np.array([[1,2,3],\n",
    "#              [4,5,6]])\n",
    "#b = np.array([[1,2],\n",
    "#              [3,4],\n",
    "#              [5,6]])\n",
    "print(a.shape)\n",
    "print(b.shape)\n",
    "np.dot(a,b)  # 矩阵相乘, 行列相乘求和 [1*1+2*3+3*5,1*2+2*4+3*6],[]"
   ]
  },
  {
   "cell_type": "code",
   "execution_count": 36,
   "id": "6f395f9e",
   "metadata": {},
   "outputs": [
    {
     "data": {
      "text/plain": [
       "array([False,  True,  True,  True,  True])"
      ]
     },
     "execution_count": 36,
     "metadata": {},
     "output_type": "execute_result"
    }
   ],
   "source": [
    "# logic operator \n",
    "a == b # false\n",
    "np.logical_and(a,b)  #array([False,  True,  True,  True,  True])\n"
   ]
  },
  {
   "cell_type": "code",
   "execution_count": 43,
   "id": "1aeca828",
   "metadata": {},
   "outputs": [
    {
     "data": {
      "text/plain": [
       "array([[7, 5, 8],\n",
       "       [4, 4, 3],\n",
       "       [0, 8, 5]])"
      ]
     },
     "execution_count": 43,
     "metadata": {},
     "output_type": "execute_result"
    }
   ],
   "source": [
    "# random model :\n",
    "np.random.rand(3,3)  # 0-1 values  float \n",
    "np.random.randint(10,size = (3,3))"
   ]
  },
  {
   "cell_type": "code",
   "execution_count": 64,
   "id": "34c3d35c",
   "metadata": {},
   "outputs": [
    {
     "name": "stdout",
     "output_type": "stream",
     "text": [
      "[0 1 2 3 4 5 6 7 8]\n",
      "[7 1 6 4 8 2 3 5 0]\n"
     ]
    }
   ],
   "source": [
    "# 高斯分布\n",
    "mu, sigma =0, 0.1\n",
    "np.random.normal(mu, sigma, 10) \n",
    " # shuffle \n",
    "a = np.arange(9)# .reshape(3,3)\n",
    "print(a)\n",
    "np.random.shuffle(a)\n",
    "print(a)"
   ]
  },
  {
   "cell_type": "markdown",
   "id": "f17157d9",
   "metadata": {},
   "source": [
    "### 随机种子\n"
   ]
  },
  {
   "cell_type": "code",
   "execution_count": 2,
   "id": "5c613642",
   "metadata": {},
   "outputs": [
    {
     "data": {
      "text/plain": [
       "array([ 0.17640523,  0.04001572,  0.0978738 ,  0.22408932,  0.1867558 ,\n",
       "       -0.09772779,  0.09500884, -0.01513572, -0.01032189,  0.04105985])"
      ]
     },
     "execution_count": 2,
     "metadata": {},
     "output_type": "execute_result"
    }
   ],
   "source": [
    "# 指定种子, 然后随机就是按照当前模式. 不会再发生改变,对比试验, 查看其他数据的变化.\n",
    "np.random.seed(0)\n",
    "mu, sigma =0, 0.1\n",
    "np.random.normal(mu, sigma, 10)   "
   ]
  },
  {
   "cell_type": "markdown",
   "id": "70e99edb",
   "metadata": {},
   "source": [
    "### file 'rw'"
   ]
  },
  {
   "cell_type": "code",
   "execution_count": 33,
   "id": "696a1ca7",
   "metadata": {},
   "outputs": [
    {
     "name": "stdout",
     "output_type": "stream",
     "text": [
      "Overwriting gary.txt\n"
     ]
    }
   ],
   "source": [
    "%%writefile gary.txt\n",
    "1,2,3,4,5,6\n",
    "7,8,9,10,11,12      "
   ]
  },
  {
   "cell_type": "code",
   "execution_count": 37,
   "id": "0ef2050f",
   "metadata": {},
   "outputs": [
    {
     "data": {
      "text/plain": [
       "array([ 1.,  2.,  3.,  4.,  5.,  6.,  7.,  8.,  9., 10., 11., 12.])"
      ]
     },
     "execution_count": 37,
     "metadata": {},
     "output_type": "execute_result"
    }
   ],
   "source": [
    "data =[]\n",
    "with open(\"gary.txt\") as f:\n",
    "    for line in f.readlines():\n",
    "        files = line.split(\",\")# point split character\n",
    "        for x in files:\n",
    "            cur_data = float(x)\n",
    "            data.append(cur_data)\n",
    "data = np.array(data)\n",
    "data"
   ]
  },
  {
   "cell_type": "code",
   "execution_count": 38,
   "id": "f2804245",
   "metadata": {},
   "outputs": [
    {
     "name": "stdout",
     "output_type": "stream",
     "text": [
      "[[ 1.  2.  3.  4.  5.  6.]\n",
      " [ 7.  8.  9. 10. 11. 12.]]\n"
     ]
    }
   ],
   "source": [
    "# data = np.loadtxt(\"gary.txt\") # 可以指定分隔符类型 \n",
    "data = np.loadtxt(\"gary.txt\", delimiter=\",\") # , skiprows=n  跳过读取n行 usecols 指定使用哪几列\n",
    "print(data)"
   ]
  },
  {
   "cell_type": "code",
   "execution_count": 3,
   "id": "ad111670",
   "metadata": {},
   "outputs": [],
   "source": [
    "# 使用NUMPY2txt 写出数据\n",
    "data = np.array([[1,2,3],[4,5,6]]) \n",
    "np.savetxt(\"gary_2.txt\", data) #  parameter  ,fmt = %d 整数保存., delimiter=\",\" 默认科学计数法\n"
   ]
  },
  {
   "cell_type": "code",
   "execution_count": 4,
   "id": "d4cfedb3",
   "metadata": {},
   "outputs": [],
   "source": [
    "# read  write 数组 array matrix  结构\n",
    "np.save(\"gary_3.npy\", data)"
   ]
  },
  {
   "cell_type": "code",
   "execution_count": 5,
   "id": "46f29d0b",
   "metadata": {},
   "outputs": [
    {
     "name": "stdout",
     "output_type": "stream",
     "text": [
      "[[1 2 3]\n",
      " [4 5 6]]\n"
     ]
    }
   ],
   "source": [
    "data = np.load(\"gary_3.npy\") # np.savez() \".npz\", a=, b=  存储多个数据.多维数组的一个保存 是[[],[]]\n",
    "# data = np.load(\"a.npz\")\n",
    "print(data)"
   ]
  }
 ],
 "metadata": {
  "kernelspec": {
   "display_name": "Python 3 (ipykernel)",
   "language": "python",
   "name": "python3"
  },
  "language_info": {
   "codemirror_mode": {
    "name": "ipython",
    "version": 3
   },
   "file_extension": ".py",
   "mimetype": "text/x-python",
   "name": "python",
   "nbconvert_exporter": "python",
   "pygments_lexer": "ipython3",
   "version": "3.9.7"
  }
 },
 "nbformat": 4,
 "nbformat_minor": 5
}
