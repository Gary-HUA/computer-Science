{
 "cells": [
  {
   "cell_type": "code",
   "execution_count": 3,
   "id": "1fe18d35",
   "metadata": {},
   "outputs": [],
   "source": [
    "import numpy as np"
   ]
  },
  {
   "cell_type": "code",
   "execution_count": 4,
   "id": "aa9cd629",
   "metadata": {},
   "outputs": [
    {
     "name": "stdout",
     "output_type": "stream",
     "text": [
      "[6.79038653e-312 1.18575755e-321 0.00000000e+000 ... 0.00000000e+000\n",
      " 0.00000000e+000 0.00000000e+000]\n"
     ]
    }
   ],
   "source": [
    "import numpy as np\n",
    "a = np.arange(24)\n",
    "b = np.fromfile(r\"F:\\dataset\\datasets\\MSR-Action-3d\\Depth\\Depth\\a01_s01_e03_sdepth.bin\")\n",
    "print(b)"
   ]
  },
  {
   "cell_type": "code",
   "execution_count": 19,
   "id": "b35c1b0c",
   "metadata": {},
   "outputs": [
    {
     "ename": "AttributeError",
     "evalue": "'numpy.ndarray' object has no attribute 'append'",
     "output_type": "error",
     "traceback": [
      "\u001b[1;31m---------------------------------------------------------------------------\u001b[0m",
      "\u001b[1;31mAttributeError\u001b[0m                            Traceback (most recent call last)",
      "Input \u001b[1;32mIn [19]\u001b[0m, in \u001b[0;36m<cell line: 7>\u001b[1;34m()\u001b[0m\n\u001b[0;32m      8\u001b[0m     data \u001b[38;5;241m=\u001b[39m binfile\u001b[38;5;241m.\u001b[39mread(\u001b[38;5;241m1\u001b[39m) \u001b[38;5;66;03m#每次输出一个字节\u001b[39;00m\n\u001b[0;32m      9\u001b[0m     data \u001b[38;5;241m=\u001b[39m np\u001b[38;5;241m.\u001b[39marray(data)\n\u001b[1;32m---> 10\u001b[0m     data_res \u001b[38;5;241m=\u001b[39m \u001b[43mdata\u001b[49m\u001b[38;5;241;43m.\u001b[39;49m\u001b[43mappend\u001b[49m(data)\n\u001b[0;32m     11\u001b[0m binfile\u001b[38;5;241m.\u001b[39mclose()\n\u001b[0;32m     12\u001b[0m \u001b[38;5;28mprint\u001b[39m(data)\n",
      "\u001b[1;31mAttributeError\u001b[0m: 'numpy.ndarray' object has no attribute 'append'"
     ]
    }
   ],
   "source": [
    "import struct\n",
    "import os\n",
    "data_res = []\n",
    "filepath = r'F:\\dataset\\myvideo\\05.jpg'\n",
    "binfile = open(filepath, 'rb') #打开二进制文件\n",
    "size = os.path.getsize(filepath) #获得文件大小\n",
    "for i in range(size):\n",
    "    data = binfile.read(1) #每次输出一个字节\n",
    "    data = np.array(data)\n",
    "    data_res = data.append(data)\n",
    "binfile.close()\n",
    "print(data)"
   ]
  },
  {
   "cell_type": "code",
   "execution_count": null,
   "id": "c881a0b5",
   "metadata": {},
   "outputs": [],
   "source": []
  }
 ],
 "metadata": {
  "kernelspec": {
   "display_name": "Python 3 (ipykernel)",
   "language": "python",
   "name": "python3"
  },
  "language_info": {
   "codemirror_mode": {
    "name": "ipython",
    "version": 3
   },
   "file_extension": ".py",
   "mimetype": "text/x-python",
   "name": "python",
   "nbconvert_exporter": "python",
   "pygments_lexer": "ipython3",
   "version": "3.9.7"
  }
 },
 "nbformat": 4,
 "nbformat_minor": 5
}
